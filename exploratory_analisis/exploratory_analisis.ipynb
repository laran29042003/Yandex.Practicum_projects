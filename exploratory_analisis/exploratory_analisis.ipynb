{
 "cells": [
  {
   "cell_type": "markdown",
   "metadata": {},
   "source": [
    "# Исследования рынка общепита в Москве для принятия решения об открытии нового заведения"
   ]
  },
  {
   "cell_type": "markdown",
   "metadata": {},
   "source": [
    "## Описание проекта"
   ]
  },
  {
   "cell_type": "markdown",
   "metadata": {},
   "source": [
    "Анализ рынка общественного питания в Москве. Анализ расположения объектов общественного питания Москвы с применением сторонних источников данных. Визуализация результатов анализа с использованием библиотек seaborn и plotly. "
   ]
  },
  {
   "cell_type": "markdown",
   "metadata": {},
   "source": [
    "## План проекта"
   ]
  },
  {
   "cell_type": "markdown",
   "metadata": {},
   "source": [
    "[1. Загрузка данных и подготовка их к анализу.](#11)\n",
    "      \n",
    "[1.1. Загрузка данных проекта о заведениях общественного питания Москвы.](#12)      \n",
    "[1.2. Загрузка данных из сторонних источников](#13)     \n",
    "\n",
    "[2. Анализ данных.](#0)   \n",
    "     \n",
    "[2.1. Исследование соотношения видов объектов общественного питания по количеству. Построение графика.](#1)  \n",
    "[2.2. Исследование соотношения сетевых и несетевых заведений по количеству. Построение графика.](#2)    \n",
    "[2.3. Определение вида объекта общественного питания, для которого характерно сетевое распространение.](#3)       \n",
    "[2.4. Определение характерных черт сетевых заведений: много заведений с небольшим числом посадочных мест в каждом или мало заведений с большим количеством посадочных мест.](#4)       \n",
    "[2.5. Определение среднего количества посадочных мест для каждого вида объекта общественного питания. Определение вида объекта общественного питания с наибольшим в среднем количеством посадочных мест. Построение графика.](#5)      \n",
    "[2.6. Выделение в отдельный столбец информации об улице из столбца address.](#6)       \n",
    "[2.7. Построение графика топ-10 улиц по количеству объектов общественного питания. Определение района Москвы, с использованием внешней информации, в котором находятся эти улицы.](#7)      \n",
    "[2.8. Определение числа улиц с одним объектом общественного питания. Определение района Москвы, с использованием внешней информации, в котором находятся эти улицы.](#8)         \n",
    "[2.9. Анализ распределения количества посадочных мест для улиц с большим количеством объектов общественного питания. Выявление закономерностей.](#9) \n",
    "\n",
    "[3. Вывод.](#30)    \n",
    "\n",
    "[3.1. Общие выводы](#31)      \n",
    "[3.2. Рекомендации](#32)\n",
    "\n",
    "[4. Презентация результатов анализа.](#20)"
   ]
  },
  {
   "cell_type": "code",
   "execution_count": 1,
   "metadata": {},
   "outputs": [],
   "source": [
    "import pandas as pd\n",
    "import seaborn as sns\n",
    "import numpy as np\n",
    "from matplotlib import pyplot as plt"
   ]
  },
  {
   "cell_type": "markdown",
   "metadata": {},
   "source": [
    "## <a name=\"11\">1. Загрузка данных и подготовка их к анализу.</a>"
   ]
  },
  {
   "cell_type": "markdown",
   "metadata": {},
   "source": [
    "### <a name=12> 1.1. Загрузка данных проекта о заведениях общественного питания Москвы.</a>"
   ]
  },
  {
   "cell_type": "markdown",
   "metadata": {},
   "source": [
    "Загрузим данные для анализа."
   ]
  },
  {
   "cell_type": "code",
   "execution_count": 2,
   "metadata": {},
   "outputs": [],
   "source": [
    "rest = pd.read_csv('/datasets/rest_data.csv')"
   ]
  },
  {
   "cell_type": "code",
   "execution_count": 3,
   "metadata": {},
   "outputs": [
    {
     "name": "stdout",
     "output_type": "stream",
     "text": [
      "<class 'pandas.core.frame.DataFrame'>\n",
      "RangeIndex: 15366 entries, 0 to 15365\n",
      "Data columns (total 6 columns):\n",
      "id             15366 non-null int64\n",
      "object_name    15366 non-null object\n",
      "chain          15366 non-null object\n",
      "object_type    15366 non-null object\n",
      "address        15366 non-null object\n",
      "number         15366 non-null int64\n",
      "dtypes: int64(2), object(4)\n",
      "memory usage: 720.4+ KB\n"
     ]
    }
   ],
   "source": [
    "rest.info()"
   ]
  },
  {
   "cell_type": "markdown",
   "metadata": {},
   "source": [
    "Таблица rest содержит данные о заведениях общественного питания Москвы. В таблице 6 столбцов и 15366 строк. Пропущенных данных нет. Типы данных соответствуют целям анализа. "
   ]
  },
  {
   "cell_type": "markdown",
   "metadata": {},
   "source": [
    "### <a name=13>1.2. Загрузка данных из сторонних источников</a>"
   ]
  },
  {
   "cell_type": "markdown",
   "metadata": {},
   "source": [
    "Для последующего анализа необходима информация о наименованиях районов Москвы, в которых находятся зааведения общественного питания.      \n",
    "С Портала открытых данных Правительства Москвы (<https://www.data.mos.ru/opendata/60562/data/table?муrsionNumber=3&releaseNumber=389>) был скачан файл, содержащий необходимые сведения (<https://yadi.sk/d/rUJyDjSkDBPDHg>). Ввиду большлго объема скачанного файла (182 Mb), на локальной  машине к данным, содержащимся в таблице rest, методом merge по столбцу address, были присоединены данные о наименованиях районов Москвы. Полученная после объединения таблица была размещена на GoogleSheets. Загруим полученные данные.  "
   ]
  },
  {
   "cell_type": "code",
   "execution_count": 4,
   "metadata": {
    "scrolled": true
   },
   "outputs": [],
   "source": [
    "from io import BytesIO\n",
    "import requests\n",
    "spreadsheet_id = '1DjH5xUyAFD44Mi4cG6dsrMdNJfAMJdoNnzpmAxE0NNk'\n",
    "file_name = 'https://docs.google.com/spreadsheets/d/{}/export?format=csv'.format(spreadsheet_id)\n",
    "r = requests.get(file_name)\n",
    "rest_district = pd.read_csv(BytesIO(r.content))"
   ]
  },
  {
   "cell_type": "code",
   "execution_count": 5,
   "metadata": {},
   "outputs": [
    {
     "data": {
      "text/html": [
       "<div>\n",
       "<style scoped>\n",
       "    .dataframe tbody tr th:only-of-type {\n",
       "        vertical-align: middle;\n",
       "    }\n",
       "\n",
       "    .dataframe tbody tr th {\n",
       "        vertical-align: top;\n",
       "    }\n",
       "\n",
       "    .dataframe thead th {\n",
       "        text-align: right;\n",
       "    }\n",
       "</style>\n",
       "<table border=\"1\" class=\"dataframe\">\n",
       "  <thead>\n",
       "    <tr style=\"text-align: right;\">\n",
       "      <th></th>\n",
       "      <th>id</th>\n",
       "      <th>object_name</th>\n",
       "      <th>chain</th>\n",
       "      <th>object_type</th>\n",
       "      <th>address</th>\n",
       "      <th>number</th>\n",
       "      <th>DISTRICT</th>\n",
       "      <th>ADDRESS</th>\n",
       "    </tr>\n",
       "  </thead>\n",
       "  <tbody>\n",
       "    <tr>\n",
       "      <td>0</td>\n",
       "      <td>151635</td>\n",
       "      <td>СМЕТАНА</td>\n",
       "      <td>нет</td>\n",
       "      <td>кафе</td>\n",
       "      <td>город Москва, улица Егора Абакумова, дом 9</td>\n",
       "      <td>48</td>\n",
       "      <td>муниципальный округ Ярославский</td>\n",
       "      <td>город Москва, улица Егора Абакумова, дом 9</td>\n",
       "    </tr>\n",
       "    <tr>\n",
       "      <td>1</td>\n",
       "      <td>77874</td>\n",
       "      <td>Родник</td>\n",
       "      <td>нет</td>\n",
       "      <td>кафе</td>\n",
       "      <td>город Москва, улица Талалихина, дом 2/1, корпус 1</td>\n",
       "      <td>35</td>\n",
       "      <td>муниципальный округ Таганский</td>\n",
       "      <td>город Москва, улица Талалихина, дом 2/1, корпус 1</td>\n",
       "    </tr>\n",
       "    <tr>\n",
       "      <td>2</td>\n",
       "      <td>24309</td>\n",
       "      <td>Кафе «Академия»</td>\n",
       "      <td>нет</td>\n",
       "      <td>кафе</td>\n",
       "      <td>город Москва, Абельмановская улица, дом 6</td>\n",
       "      <td>95</td>\n",
       "      <td>муниципальный округ Таганский</td>\n",
       "      <td>город Москва, Абельмановская улица, дом 6</td>\n",
       "    </tr>\n",
       "    <tr>\n",
       "      <td>3</td>\n",
       "      <td>21894</td>\n",
       "      <td>ПИЦЦЕТОРИЯ</td>\n",
       "      <td>да</td>\n",
       "      <td>кафе</td>\n",
       "      <td>город Москва, Абрамцевская улица, дом 1</td>\n",
       "      <td>40</td>\n",
       "      <td>муниципальный округ Лианозово</td>\n",
       "      <td>город Москва, Абрамцевская улица, дом 1</td>\n",
       "    </tr>\n",
       "    <tr>\n",
       "      <td>4</td>\n",
       "      <td>119365</td>\n",
       "      <td>Кафе «Вишневая метель»</td>\n",
       "      <td>нет</td>\n",
       "      <td>кафе</td>\n",
       "      <td>город Москва, Абрамцевская улица, дом 9, корпус 1</td>\n",
       "      <td>50</td>\n",
       "      <td>муниципальный округ Лианозово</td>\n",
       "      <td>город Москва, Абрамцевская улица, дом 9, корпус 1</td>\n",
       "    </tr>\n",
       "  </tbody>\n",
       "</table>\n",
       "</div>"
      ],
      "text/plain": [
       "       id             object_name chain object_type  \\\n",
       "0  151635                 СМЕТАНА   нет        кафе   \n",
       "1   77874                  Родник   нет        кафе   \n",
       "2   24309         Кафе «Академия»   нет        кафе   \n",
       "3   21894              ПИЦЦЕТОРИЯ    да        кафе   \n",
       "4  119365  Кафе «Вишневая метель»   нет        кафе   \n",
       "\n",
       "                                             address  number  \\\n",
       "0         город Москва, улица Егора Абакумова, дом 9      48   \n",
       "1  город Москва, улица Талалихина, дом 2/1, корпус 1      35   \n",
       "2          город Москва, Абельмановская улица, дом 6      95   \n",
       "3            город Москва, Абрамцевская улица, дом 1      40   \n",
       "4  город Москва, Абрамцевская улица, дом 9, корпус 1      50   \n",
       "\n",
       "                          DISTRICT  \\\n",
       "0  муниципальный округ Ярославский   \n",
       "1    муниципальный округ Таганский   \n",
       "2    муниципальный округ Таганский   \n",
       "3    муниципальный округ Лианозово   \n",
       "4    муниципальный округ Лианозово   \n",
       "\n",
       "                                             ADDRESS  \n",
       "0         город Москва, улица Егора Абакумова, дом 9  \n",
       "1  город Москва, улица Талалихина, дом 2/1, корпус 1  \n",
       "2          город Москва, Абельмановская улица, дом 6  \n",
       "3            город Москва, Абрамцевская улица, дом 1  \n",
       "4  город Москва, Абрамцевская улица, дом 9, корпус 1  "
      ]
     },
     "execution_count": 5,
     "metadata": {},
     "output_type": "execute_result"
    }
   ],
   "source": [
    "rest_district.head()"
   ]
  },
  {
   "cell_type": "markdown",
   "metadata": {},
   "source": [
    "Удалим присоединенный столбец ADDRESS, дублирующий имеющиеся данные, исправим назавние столбца."
   ]
  },
  {
   "cell_type": "code",
   "execution_count": 6,
   "metadata": {},
   "outputs": [],
   "source": [
    "rest_district = rest_district.drop(['ADDRESS'], axis=1)"
   ]
  },
  {
   "cell_type": "code",
   "execution_count": 7,
   "metadata": {},
   "outputs": [],
   "source": [
    "rest_district.columns = rest_district.columns.str.lower()"
   ]
  },
  {
   "cell_type": "markdown",
   "metadata": {},
   "source": [
    "Посмотрим на полученные данные."
   ]
  },
  {
   "cell_type": "code",
   "execution_count": 8,
   "metadata": {},
   "outputs": [
    {
     "data": {
      "text/html": [
       "<div>\n",
       "<style scoped>\n",
       "    .dataframe tbody tr th:only-of-type {\n",
       "        vertical-align: middle;\n",
       "    }\n",
       "\n",
       "    .dataframe tbody tr th {\n",
       "        vertical-align: top;\n",
       "    }\n",
       "\n",
       "    .dataframe thead th {\n",
       "        text-align: right;\n",
       "    }\n",
       "</style>\n",
       "<table border=\"1\" class=\"dataframe\">\n",
       "  <thead>\n",
       "    <tr style=\"text-align: right;\">\n",
       "      <th></th>\n",
       "      <th>id</th>\n",
       "      <th>object_name</th>\n",
       "      <th>chain</th>\n",
       "      <th>object_type</th>\n",
       "      <th>address</th>\n",
       "      <th>number</th>\n",
       "      <th>district</th>\n",
       "    </tr>\n",
       "  </thead>\n",
       "  <tbody>\n",
       "    <tr>\n",
       "      <td>0</td>\n",
       "      <td>151635</td>\n",
       "      <td>СМЕТАНА</td>\n",
       "      <td>нет</td>\n",
       "      <td>кафе</td>\n",
       "      <td>город Москва, улица Егора Абакумова, дом 9</td>\n",
       "      <td>48</td>\n",
       "      <td>муниципальный округ Ярославский</td>\n",
       "    </tr>\n",
       "    <tr>\n",
       "      <td>1</td>\n",
       "      <td>77874</td>\n",
       "      <td>Родник</td>\n",
       "      <td>нет</td>\n",
       "      <td>кафе</td>\n",
       "      <td>город Москва, улица Талалихина, дом 2/1, корпус 1</td>\n",
       "      <td>35</td>\n",
       "      <td>муниципальный округ Таганский</td>\n",
       "    </tr>\n",
       "    <tr>\n",
       "      <td>2</td>\n",
       "      <td>24309</td>\n",
       "      <td>Кафе «Академия»</td>\n",
       "      <td>нет</td>\n",
       "      <td>кафе</td>\n",
       "      <td>город Москва, Абельмановская улица, дом 6</td>\n",
       "      <td>95</td>\n",
       "      <td>муниципальный округ Таганский</td>\n",
       "    </tr>\n",
       "    <tr>\n",
       "      <td>3</td>\n",
       "      <td>21894</td>\n",
       "      <td>ПИЦЦЕТОРИЯ</td>\n",
       "      <td>да</td>\n",
       "      <td>кафе</td>\n",
       "      <td>город Москва, Абрамцевская улица, дом 1</td>\n",
       "      <td>40</td>\n",
       "      <td>муниципальный округ Лианозово</td>\n",
       "    </tr>\n",
       "    <tr>\n",
       "      <td>4</td>\n",
       "      <td>119365</td>\n",
       "      <td>Кафе «Вишневая метель»</td>\n",
       "      <td>нет</td>\n",
       "      <td>кафе</td>\n",
       "      <td>город Москва, Абрамцевская улица, дом 9, корпус 1</td>\n",
       "      <td>50</td>\n",
       "      <td>муниципальный округ Лианозово</td>\n",
       "    </tr>\n",
       "  </tbody>\n",
       "</table>\n",
       "</div>"
      ],
      "text/plain": [
       "       id             object_name chain object_type  \\\n",
       "0  151635                 СМЕТАНА   нет        кафе   \n",
       "1   77874                  Родник   нет        кафе   \n",
       "2   24309         Кафе «Академия»   нет        кафе   \n",
       "3   21894              ПИЦЦЕТОРИЯ    да        кафе   \n",
       "4  119365  Кафе «Вишневая метель»   нет        кафе   \n",
       "\n",
       "                                             address  number  \\\n",
       "0         город Москва, улица Егора Абакумова, дом 9      48   \n",
       "1  город Москва, улица Талалихина, дом 2/1, корпус 1      35   \n",
       "2          город Москва, Абельмановская улица, дом 6      95   \n",
       "3            город Москва, Абрамцевская улица, дом 1      40   \n",
       "4  город Москва, Абрамцевская улица, дом 9, корпус 1      50   \n",
       "\n",
       "                          district  \n",
       "0  муниципальный округ Ярославский  \n",
       "1    муниципальный округ Таганский  \n",
       "2    муниципальный округ Таганский  \n",
       "3    муниципальный округ Лианозово  \n",
       "4    муниципальный округ Лианозово  "
      ]
     },
     "execution_count": 8,
     "metadata": {},
     "output_type": "execute_result"
    }
   ],
   "source": [
    "rest_district.head()"
   ]
  },
  {
   "cell_type": "code",
   "execution_count": 9,
   "metadata": {},
   "outputs": [
    {
     "data": {
      "text/html": [
       "<div>\n",
       "<style scoped>\n",
       "    .dataframe tbody tr th:only-of-type {\n",
       "        vertical-align: middle;\n",
       "    }\n",
       "\n",
       "    .dataframe tbody tr th {\n",
       "        vertical-align: top;\n",
       "    }\n",
       "\n",
       "    .dataframe thead th {\n",
       "        text-align: right;\n",
       "    }\n",
       "</style>\n",
       "<table border=\"1\" class=\"dataframe\">\n",
       "  <thead>\n",
       "    <tr style=\"text-align: right;\">\n",
       "      <th></th>\n",
       "      <th>id</th>\n",
       "      <th>object_name</th>\n",
       "      <th>chain</th>\n",
       "      <th>object_type</th>\n",
       "      <th>address</th>\n",
       "      <th>number</th>\n",
       "    </tr>\n",
       "  </thead>\n",
       "  <tbody>\n",
       "    <tr>\n",
       "      <td>0</td>\n",
       "      <td>151635</td>\n",
       "      <td>СМЕТАНА</td>\n",
       "      <td>нет</td>\n",
       "      <td>кафе</td>\n",
       "      <td>город Москва, улица Егора Абакумова, дом 9</td>\n",
       "      <td>48</td>\n",
       "    </tr>\n",
       "    <tr>\n",
       "      <td>1</td>\n",
       "      <td>77874</td>\n",
       "      <td>Родник</td>\n",
       "      <td>нет</td>\n",
       "      <td>кафе</td>\n",
       "      <td>город Москва, улица Талалихина, дом 2/1, корпус 1</td>\n",
       "      <td>35</td>\n",
       "    </tr>\n",
       "    <tr>\n",
       "      <td>2</td>\n",
       "      <td>24309</td>\n",
       "      <td>Кафе «Академия»</td>\n",
       "      <td>нет</td>\n",
       "      <td>кафе</td>\n",
       "      <td>город Москва, Абельмановская улица, дом 6</td>\n",
       "      <td>95</td>\n",
       "    </tr>\n",
       "    <tr>\n",
       "      <td>3</td>\n",
       "      <td>21894</td>\n",
       "      <td>ПИЦЦЕТОРИЯ</td>\n",
       "      <td>да</td>\n",
       "      <td>кафе</td>\n",
       "      <td>город Москва, Абрамцевская улица, дом 1</td>\n",
       "      <td>40</td>\n",
       "    </tr>\n",
       "    <tr>\n",
       "      <td>4</td>\n",
       "      <td>119365</td>\n",
       "      <td>Кафе «Вишневая метель»</td>\n",
       "      <td>нет</td>\n",
       "      <td>кафе</td>\n",
       "      <td>город Москва, Абрамцевская улица, дом 9, корпус 1</td>\n",
       "      <td>50</td>\n",
       "    </tr>\n",
       "  </tbody>\n",
       "</table>\n",
       "</div>"
      ],
      "text/plain": [
       "       id             object_name chain object_type  \\\n",
       "0  151635                 СМЕТАНА   нет        кафе   \n",
       "1   77874                  Родник   нет        кафе   \n",
       "2   24309         Кафе «Академия»   нет        кафе   \n",
       "3   21894              ПИЦЦЕТОРИЯ    да        кафе   \n",
       "4  119365  Кафе «Вишневая метель»   нет        кафе   \n",
       "\n",
       "                                             address  number  \n",
       "0         город Москва, улица Егора Абакумова, дом 9      48  \n",
       "1  город Москва, улица Талалихина, дом 2/1, корпус 1      35  \n",
       "2          город Москва, Абельмановская улица, дом 6      95  \n",
       "3            город Москва, Абрамцевская улица, дом 1      40  \n",
       "4  город Москва, Абрамцевская улица, дом 9, корпус 1      50  "
      ]
     },
     "execution_count": 9,
     "metadata": {},
     "output_type": "execute_result"
    }
   ],
   "source": [
    "rest.head()"
   ]
  },
  {
   "cell_type": "markdown",
   "metadata": {},
   "source": [
    "## <a name=0> 2. Анализ данных. </a>"
   ]
  },
  {
   "cell_type": "markdown",
   "metadata": {},
   "source": [
    "### <a name=\"1\">2.1. Исследование соотношения видов объектов общественного питания по количеству. Построение графика.</a>"
   ]
  },
  {
   "cell_type": "markdown",
   "metadata": {},
   "source": [
    "Посмотрим на уникальные виды объектов общественного питания."
   ]
  },
  {
   "cell_type": "code",
   "execution_count": 10,
   "metadata": {},
   "outputs": [
    {
     "data": {
      "text/plain": [
       "array(['кафе', 'столовая', 'закусочная',\n",
       "       'предприятие быстрого обслуживания', 'ресторан', 'кафетерий',\n",
       "       'буфет', 'бар', 'магазин (отдел кулинарии)'], dtype=object)"
      ]
     },
     "execution_count": 10,
     "metadata": {},
     "output_type": "execute_result"
    }
   ],
   "source": [
    "rest['object_type'].unique()"
   ]
  },
  {
   "cell_type": "code",
   "execution_count": 11,
   "metadata": {},
   "outputs": [
    {
     "data": {
      "text/plain": [
       "9"
      ]
     },
     "execution_count": 11,
     "metadata": {},
     "output_type": "execute_result"
    }
   ],
   "source": [
    "rest['object_type'].nunique()"
   ]
  },
  {
   "cell_type": "markdown",
   "metadata": {},
   "source": [
    "Сгоуппируем данные по видам заведений."
   ]
  },
  {
   "cell_type": "code",
   "execution_count": 12,
   "metadata": {},
   "outputs": [
    {
     "data": {
      "text/html": [
       "<div>\n",
       "<style scoped>\n",
       "    .dataframe tbody tr th:only-of-type {\n",
       "        vertical-align: middle;\n",
       "    }\n",
       "\n",
       "    .dataframe tbody tr th {\n",
       "        vertical-align: top;\n",
       "    }\n",
       "\n",
       "    .dataframe thead th {\n",
       "        text-align: right;\n",
       "    }\n",
       "</style>\n",
       "<table border=\"1\" class=\"dataframe\">\n",
       "  <thead>\n",
       "    <tr style=\"text-align: right;\">\n",
       "      <th></th>\n",
       "      <th>object_type</th>\n",
       "      <th>id</th>\n",
       "    </tr>\n",
       "  </thead>\n",
       "  <tbody>\n",
       "    <tr>\n",
       "      <td>3</td>\n",
       "      <td>кафе</td>\n",
       "      <td>6099</td>\n",
       "    </tr>\n",
       "    <tr>\n",
       "      <td>8</td>\n",
       "      <td>столовая</td>\n",
       "      <td>2587</td>\n",
       "    </tr>\n",
       "    <tr>\n",
       "      <td>7</td>\n",
       "      <td>ресторан</td>\n",
       "      <td>2285</td>\n",
       "    </tr>\n",
       "    <tr>\n",
       "      <td>6</td>\n",
       "      <td>предприятие быстрого обслуживания</td>\n",
       "      <td>1923</td>\n",
       "    </tr>\n",
       "    <tr>\n",
       "      <td>0</td>\n",
       "      <td>бар</td>\n",
       "      <td>856</td>\n",
       "    </tr>\n",
       "    <tr>\n",
       "      <td>1</td>\n",
       "      <td>буфет</td>\n",
       "      <td>585</td>\n",
       "    </tr>\n",
       "    <tr>\n",
       "      <td>4</td>\n",
       "      <td>кафетерий</td>\n",
       "      <td>398</td>\n",
       "    </tr>\n",
       "    <tr>\n",
       "      <td>2</td>\n",
       "      <td>закусочная</td>\n",
       "      <td>360</td>\n",
       "    </tr>\n",
       "    <tr>\n",
       "      <td>5</td>\n",
       "      <td>магазин (отдел кулинарии)</td>\n",
       "      <td>273</td>\n",
       "    </tr>\n",
       "  </tbody>\n",
       "</table>\n",
       "</div>"
      ],
      "text/plain": [
       "                         object_type    id\n",
       "3                               кафе  6099\n",
       "8                           столовая  2587\n",
       "7                           ресторан  2285\n",
       "6  предприятие быстрого обслуживания  1923\n",
       "0                                бар   856\n",
       "1                              буфет   585\n",
       "4                          кафетерий   398\n",
       "2                         закусочная   360\n",
       "5          магазин (отдел кулинарии)   273"
      ]
     },
     "execution_count": 12,
     "metadata": {},
     "output_type": "execute_result"
    }
   ],
   "source": [
    "rest_type = (rest\n",
    "    .groupby(by='object_type')['id']\n",
    "    .count()\n",
    "    .reset_index()\n",
    "    .sort_values(by='id',ascending=False))\n",
    "rest_type"
   ]
  },
  {
   "cell_type": "markdown",
   "metadata": {},
   "source": [
    "Построим столбчатый график, иллюстрирующий количество заведений каждого вида. "
   ]
  },
  {
   "cell_type": "code",
   "execution_count": 13,
   "metadata": {},
   "outputs": [
    {
     "data": {
      "text/plain": [
       "Text(0, 0.5, 'Вид заведения')"
      ]
     },
     "execution_count": 13,
     "metadata": {},
     "output_type": "execute_result"
    },
    {
     "data": {
      "image/png": "[encoded data removed]",
      "text/plain": [
       "<Figure size 720x504 with 1 Axes>"
      ]
     },
     "metadata": {
      "needs_background": "light"
     },
     "output_type": "display_data"
    }
   ],
   "source": [
    "fig, ax = plt.subplots(figsize=(10, 7))\n",
    "sns.barplot(y='object_type', x='id', data=rest_type, orient='h')\n",
    "plt.grid()\n",
    "plt.title('График соотношения видов заведений по количеству')\n",
    "plt.xlabel('Количество заведений')\n",
    "plt.ylabel('Вид заведения')\n",
    "#fig.savefig('виды по количеству', dpi=300, bbox_inches='tight')"
   ]
  },
  {
   "cell_type": "markdown",
   "metadata": {},
   "source": [
    "Из выше указанного можно сделать следующие выводы. Наиболее распространенным видом заведения общественного питания является кафе, на втором месте - столовая, замыкает тройку лидеров ресторан. Наименее распространенный вид заведения общественного питания - магазин (отдел кулинарии). "
   ]
  },
  {
   "cell_type": "markdown",
   "metadata": {},
   "source": [
    "### <a name=\"2\">2.2. Исследование соотношения сетевых и несетевых заведений по количеству. Построение графика.</a>"
   ]
  },
  {
   "cell_type": "markdown",
   "metadata": {},
   "source": [
    "Для анализа соотношения количества сетевых и несетевых завдений сгруппируем данные в зависимости от значений столбца chain: \"да\" или \"нет\". "
   ]
  },
  {
   "cell_type": "code",
   "execution_count": 14,
   "metadata": {},
   "outputs": [],
   "source": [
    "rest_chain = rest.groupby(by='chain')['id'].count()"
   ]
  },
  {
   "cell_type": "markdown",
   "metadata": {},
   "source": [
    "Для иллюстрации соотношения построим круговую диаграмму по полученным данным."
   ]
  },
  {
   "cell_type": "code",
   "execution_count": 15,
   "metadata": {},
   "outputs": [
    {
     "data": {
      "text/plain": [
       "Text(0.5, 1.0, 'Соотношение сетевых и несетевых заведений по количеству')"
      ]
     },
     "execution_count": 15,
     "metadata": {},
     "output_type": "execute_result"
    },
    {
     "data": {
      "image/png": "[encoded data removed]",
      "text/plain": [
       "<Figure size 504x504 with 1 Axes>"
      ]
     },
     "metadata": {},
     "output_type": "display_data"
    }
   ],
   "source": [
    "fig, ax = plt.subplots(figsize=(7, 7))\n",
    "plt.pie(rest_chain, autopct='%d', labels=('Сетевые','Несетевые'), explode=(0,0.1))\n",
    "plt.title('Соотношение сетевых и несетевых заведений по количеству')\n",
    "#fig.savefig('сетевые и несетевые', dpi=300, bbox_inches='tight')"
   ]
  },
  {
   "cell_type": "markdown",
   "metadata": {},
   "source": [
    "Из графика видно, что сетевых заведений в 4 раза больше, чем несетевых.  "
   ]
  },
  {
   "cell_type": "markdown",
   "metadata": {},
   "source": [
    "### <a name=\"3\">2.3. Определение вида объекта общественного питания, для которого характерно сетевое распространение.</a>"
   ]
  },
  {
   "cell_type": "markdown",
   "metadata": {},
   "source": [
    "Выберем из данных сетевые объекты и подсчитаем количество объектов каждого вида. Построим столбчатый график."
   ]
  },
  {
   "cell_type": "code",
   "execution_count": 16,
   "metadata": {},
   "outputs": [],
   "source": [
    "rest_chain_pos = (rest.query('chain == \"да\"')\n",
    "    .groupby(by='object_type')['id']\n",
    "    .count()\n",
    "    .reset_index()\n",
    "    .sort_values(by=['id'],ascending=False))\n",
    "rest_chain_pos.columns = ['object_type','count_chain']"
   ]
  },
  {
   "cell_type": "code",
   "execution_count": 17,
   "metadata": {},
   "outputs": [
    {
     "data": {
      "image/png": "[encoded data removed]",
      "text/plain": [
       "<Figure size 720x504 with 1 Axes>"
      ]
     },
     "metadata": {
      "needs_background": "light"
     },
     "output_type": "display_data"
    }
   ],
   "source": [
    "fig, ax = plt.subplots(figsize=(10, 7))\n",
    "sns.barplot(y='object_type', x='count_chain',data=rest_chain_pos, orient='h')\n",
    "plt.title('График распределения сетевых заведений по виду')\n",
    "plt.xlabel('Количество заведений')\n",
    "plt.ylabel('Вид заведения')\n",
    "plt.grid()\n",
    "#fig.savefig('сетевые по виду', dpi=300, bbox_inches='tight')"
   ]
  },
  {
   "cell_type": "markdown",
   "metadata": {},
   "source": [
    "Выберем из данных несетевые объекты и подсчитаем количество объектов каждого вида. Построим столбчатый график."
   ]
  },
  {
   "cell_type": "code",
   "execution_count": 18,
   "metadata": {},
   "outputs": [],
   "source": [
    "rest_chain_neg = (rest.query('chain == \"нет\"')\n",
    "    .groupby(by='object_type')['id']\n",
    "    .count()\n",
    "    .reset_index()\n",
    "    .sort_values(by=['id'],ascending=False))\n",
    "rest_chain_neg.columns = ['object_type','count_nochain']"
   ]
  },
  {
   "cell_type": "code",
   "execution_count": 19,
   "metadata": {},
   "outputs": [
    {
     "data": {
      "image/png": "[encoded data removed]",
      "text/plain": [
       "<Figure size 720x504 with 1 Axes>"
      ]
     },
     "metadata": {
      "needs_background": "light"
     },
     "output_type": "display_data"
    }
   ],
   "source": [
    "fig, ax = plt.subplots(figsize=(10, 7))\n",
    "sns.barplot(y='object_type', x='count_nochain',data=rest_chain_neg, orient='h')\n",
    "plt.title('График распределения несетевых заведений по виду')\n",
    "plt.xlabel('Количество заведений')\n",
    "plt.ylabel('Вид заведения')\n",
    "plt.grid()\n",
    "#fig.savefig('несетевые по виду', dpi=300, bbox_inches='tight')"
   ]
  },
  {
   "cell_type": "markdown",
   "metadata": {},
   "source": [
    "Для большей наглядности построим совместный столбчатый график для количества сетевых и несетевых заведений каждого вида. "
   ]
  },
  {
   "cell_type": "code",
   "execution_count": 20,
   "metadata": {},
   "outputs": [
    {
     "data": {
      "text/html": [
       "<div>\n",
       "<style scoped>\n",
       "    .dataframe tbody tr th:only-of-type {\n",
       "        vertical-align: middle;\n",
       "    }\n",
       "\n",
       "    .dataframe tbody tr th {\n",
       "        vertical-align: top;\n",
       "    }\n",
       "\n",
       "    .dataframe thead th {\n",
       "        text-align: right;\n",
       "    }\n",
       "</style>\n",
       "<table border=\"1\" class=\"dataframe\">\n",
       "  <thead>\n",
       "    <tr style=\"text-align: right;\">\n",
       "      <th></th>\n",
       "      <th>object_type</th>\n",
       "      <th>count_chain</th>\n",
       "      <th>count_nochain</th>\n",
       "    </tr>\n",
       "  </thead>\n",
       "  <tbody>\n",
       "    <tr>\n",
       "      <td>0</td>\n",
       "      <td>кафе</td>\n",
       "      <td>1396</td>\n",
       "      <td>4703</td>\n",
       "    </tr>\n",
       "    <tr>\n",
       "      <td>1</td>\n",
       "      <td>предприятие быстрого обслуживания</td>\n",
       "      <td>791</td>\n",
       "      <td>1132</td>\n",
       "    </tr>\n",
       "    <tr>\n",
       "      <td>2</td>\n",
       "      <td>ресторан</td>\n",
       "      <td>544</td>\n",
       "      <td>1741</td>\n",
       "    </tr>\n",
       "    <tr>\n",
       "      <td>3</td>\n",
       "      <td>магазин (отдел кулинарии)</td>\n",
       "      <td>78</td>\n",
       "      <td>195</td>\n",
       "    </tr>\n",
       "    <tr>\n",
       "      <td>4</td>\n",
       "      <td>закусочная</td>\n",
       "      <td>56</td>\n",
       "      <td>304</td>\n",
       "    </tr>\n",
       "    <tr>\n",
       "      <td>5</td>\n",
       "      <td>кафетерий</td>\n",
       "      <td>52</td>\n",
       "      <td>346</td>\n",
       "    </tr>\n",
       "    <tr>\n",
       "      <td>6</td>\n",
       "      <td>бар</td>\n",
       "      <td>37</td>\n",
       "      <td>819</td>\n",
       "    </tr>\n",
       "    <tr>\n",
       "      <td>7</td>\n",
       "      <td>буфет</td>\n",
       "      <td>11</td>\n",
       "      <td>574</td>\n",
       "    </tr>\n",
       "    <tr>\n",
       "      <td>8</td>\n",
       "      <td>столовая</td>\n",
       "      <td>3</td>\n",
       "      <td>2584</td>\n",
       "    </tr>\n",
       "  </tbody>\n",
       "</table>\n",
       "</div>"
      ],
      "text/plain": [
       "                         object_type  count_chain  count_nochain\n",
       "0                               кафе         1396           4703\n",
       "1  предприятие быстрого обслуживания          791           1132\n",
       "2                           ресторан          544           1741\n",
       "3          магазин (отдел кулинарии)           78            195\n",
       "4                         закусочная           56            304\n",
       "5                          кафетерий           52            346\n",
       "6                                бар           37            819\n",
       "7                              буфет           11            574\n",
       "8                           столовая            3           2584"
      ]
     },
     "execution_count": 20,
     "metadata": {},
     "output_type": "execute_result"
    }
   ],
   "source": [
    "rest_chain_com = rest_chain_pos.merge(rest_chain_neg, on='object_type')\n",
    "rest_chain_com"
   ]
  },
  {
   "cell_type": "code",
   "execution_count": 21,
   "metadata": {},
   "outputs": [],
   "source": [
    "list_type = rest_chain_com['object_type'].tolist()"
   ]
  },
  {
   "cell_type": "code",
   "execution_count": 22,
   "metadata": {},
   "outputs": [
    {
     "data": {
      "text/plain": [
       "Text(0.5, 1.0, 'Соотношение сетевых и несетевых заведений по видам')"
      ]
     },
     "execution_count": 22,
     "metadata": {},
     "output_type": "execute_result"
    },
    {
     "data": {
      "image/png": "[encoded data removed]",
      "text/plain": [
       "<Figure size 720x504 with 1 Axes>"
      ]
     },
     "metadata": {
      "needs_background": "light"
     },
     "output_type": "display_data"
    }
   ],
   "source": [
    "fig, ax = plt.subplots(figsize=(10, 7))\n",
    "list_type = rest_chain_com['object_type'].tolist()\n",
    "rest_chain_com.plot(kind='barh', width=0.7, ax=ax)\n",
    "plt.xlabel('Количество заведений')\n",
    "plt.ylabel('Вид заведений')\n",
    "plt.grid()\n",
    "plt.yticks(np.arange(len(list_type)),list_type)\n",
    "plt.legend(labels=('Сетевые заведения','Несетевые заведения'))\n",
    "plt.title('Соотношение сетевых и несетевых заведений по видам')\n",
    "#fig.savefig('совместный', dpi=300, bbox_inches='tight')"
   ]
  },
  {
   "cell_type": "markdown",
   "metadata": {},
   "source": [
    "Из приведенных графиков можно сделать вывод, что сетевое распространение наиболее характерно для кафе, на втором месте - предприятие быстрого обслуживания, на третьем - ресторан. Столовые и буфеты в сети не объединяют.  "
   ]
  },
  {
   "cell_type": "markdown",
   "metadata": {},
   "source": [
    "### <a name=\"4\">2.4. Определение характерных черт сетевых заведений: много заведений с небольшим числом посадочных мест в каждом или мало заведений с большим количеством посадочных мест.</a>"
   ]
  },
  {
   "cell_type": "markdown",
   "metadata": {},
   "source": [
    "Для определения характерных черт сетевых заведений, отфильтруем их по значению \"да\" столбца chain. Построим для таких заведений гистограмму и точечный график распределения количества посадочных мест.  "
   ]
  },
  {
   "cell_type": "code",
   "execution_count": 23,
   "metadata": {},
   "outputs": [
    {
     "data": {
      "text/plain": [
       "count    2968.000000\n",
       "mean       52.919811\n",
       "std        57.140644\n",
       "min         0.000000\n",
       "25%        15.000000\n",
       "50%        40.000000\n",
       "75%        72.000000\n",
       "max       580.000000\n",
       "Name: number, dtype: float64"
      ]
     },
     "execution_count": 23,
     "metadata": {},
     "output_type": "execute_result"
    }
   ],
   "source": [
    "rest.query('chain == \"да\"')['number'].describe()"
   ]
  },
  {
   "cell_type": "code",
   "execution_count": 24,
   "metadata": {},
   "outputs": [
    {
     "data": {
      "text/plain": [
       "Text(0.5, 0, 'Количество посадочных мест')"
      ]
     },
     "execution_count": 24,
     "metadata": {},
     "output_type": "execute_result"
    },
    {
     "data": {
      "image/png": "[encoded data removed]",
      "text/plain": [
       "<Figure size 720x504 with 1 Axes>"
      ]
     },
     "metadata": {
      "needs_background": "light"
     },
     "output_type": "display_data"
    }
   ],
   "source": [
    "fig, ax = plt.subplots(figsize=(10, 7))\n",
    "sns.distplot(rest.query('chain == \"да\"')['number'])\n",
    "plt.title('Гистограмма распределения количества посадочных мест в сетевых заведениях')\n",
    "plt.xlabel('Количество посадочных мест')\n",
    "#fig.savefig('гистограмма посадочные места', dpi=300, bbox_inches='tight')"
   ]
  },
  {
   "cell_type": "markdown",
   "metadata": {},
   "source": [
    "Для ответа на вопрос, поставленный в проекте, рассчитаем в сводной таблице среднее количество посадочных мест и количество заведений для каждой сети. "
   ]
  },
  {
   "cell_type": "code",
   "execution_count": 25,
   "metadata": {},
   "outputs": [],
   "source": [
    "rest_chain_pivot = (rest.query('chain == \"да\"')\n",
    "    .pivot_table(index='object_name', values='number', aggfunc=['count','mean'])\n",
    "    .reset_index())"
   ]
  },
  {
   "cell_type": "code",
   "execution_count": 26,
   "metadata": {},
   "outputs": [
    {
     "data": {
      "text/html": [
       "<div>\n",
       "<style scoped>\n",
       "    .dataframe tbody tr th:only-of-type {\n",
       "        vertical-align: middle;\n",
       "    }\n",
       "\n",
       "    .dataframe tbody tr th {\n",
       "        vertical-align: top;\n",
       "    }\n",
       "\n",
       "    .dataframe thead th {\n",
       "        text-align: right;\n",
       "    }\n",
       "</style>\n",
       "<table border=\"1\" class=\"dataframe\">\n",
       "  <thead>\n",
       "    <tr style=\"text-align: right;\">\n",
       "      <th></th>\n",
       "      <th>object_name</th>\n",
       "      <th>object_count</th>\n",
       "      <th>number_mean</th>\n",
       "    </tr>\n",
       "  </thead>\n",
       "  <tbody>\n",
       "    <tr>\n",
       "      <td>651</td>\n",
       "      <td>Темпл Бар</td>\n",
       "      <td>1</td>\n",
       "      <td>356.0</td>\n",
       "    </tr>\n",
       "    <tr>\n",
       "      <td>96</td>\n",
       "      <td>БАКИНСКИЙ БУЛЬВАР</td>\n",
       "      <td>1</td>\n",
       "      <td>350.0</td>\n",
       "    </tr>\n",
       "    <tr>\n",
       "      <td>689</td>\n",
       "      <td>Чешская пивная «Козловица»</td>\n",
       "      <td>1</td>\n",
       "      <td>306.0</td>\n",
       "    </tr>\n",
       "    <tr>\n",
       "      <td>328</td>\n",
       "      <td>Кафе МУ-МУ</td>\n",
       "      <td>1</td>\n",
       "      <td>300.0</td>\n",
       "    </tr>\n",
       "    <tr>\n",
       "      <td>714</td>\n",
       "      <td>Ян Примус</td>\n",
       "      <td>1</td>\n",
       "      <td>300.0</td>\n",
       "    </tr>\n",
       "    <tr>\n",
       "      <td>...</td>\n",
       "      <td>...</td>\n",
       "      <td>...</td>\n",
       "      <td>...</td>\n",
       "    </tr>\n",
       "    <tr>\n",
       "      <td>210</td>\n",
       "      <td>Закусочная «СтардогS»</td>\n",
       "      <td>1</td>\n",
       "      <td>0.0</td>\n",
       "    </tr>\n",
       "    <tr>\n",
       "      <td>482</td>\n",
       "      <td>Пицца «Паоло»</td>\n",
       "      <td>1</td>\n",
       "      <td>0.0</td>\n",
       "    </tr>\n",
       "    <tr>\n",
       "      <td>92</td>\n",
       "      <td>Американ Сити Пицца ЦЕХ ПО ИЗГОТОВЛЕНИЮ ПИЦЦЫ</td>\n",
       "      <td>1</td>\n",
       "      <td>0.0</td>\n",
       "    </tr>\n",
       "    <tr>\n",
       "      <td>413</td>\n",
       "      <td>Магазин готовой еды «Милти»</td>\n",
       "      <td>3</td>\n",
       "      <td>0.0</td>\n",
       "    </tr>\n",
       "    <tr>\n",
       "      <td>660</td>\n",
       "      <td>Точка продажи готовой еды Милти</td>\n",
       "      <td>2</td>\n",
       "      <td>0.0</td>\n",
       "    </tr>\n",
       "  </tbody>\n",
       "</table>\n",
       "<p>724 rows × 3 columns</p>\n",
       "</div>"
      ],
      "text/plain": [
       "                                       object_name  object_count  number_mean\n",
       "651                                      Темпл Бар             1        356.0\n",
       "96                               БАКИНСКИЙ БУЛЬВАР             1        350.0\n",
       "689                     Чешская пивная «Козловица»             1        306.0\n",
       "328                                     Кафе МУ-МУ             1        300.0\n",
       "714                                      Ян Примус             1        300.0\n",
       "..                                             ...           ...          ...\n",
       "210                          Закусочная «СтардогS»             1          0.0\n",
       "482                                  Пицца «Паоло»             1          0.0\n",
       "92   Американ Сити Пицца ЦЕХ ПО ИЗГОТОВЛЕНИЮ ПИЦЦЫ             1          0.0\n",
       "413                    Магазин готовой еды «Милти»             3          0.0\n",
       "660                Точка продажи готовой еды Милти             2          0.0\n",
       "\n",
       "[724 rows x 3 columns]"
      ]
     },
     "execution_count": 26,
     "metadata": {},
     "output_type": "execute_result"
    }
   ],
   "source": [
    "rest_chain_pivot.columns = ['object_name','object_count','number_mean']\n",
    "rest_chain_pivot.sort_values(by='number_mean', ascending=False)"
   ]
  },
  {
   "cell_type": "code",
   "execution_count": 27,
   "metadata": {},
   "outputs": [
    {
     "data": {
      "text/html": [
       "<div>\n",
       "<style scoped>\n",
       "    .dataframe tbody tr th:only-of-type {\n",
       "        vertical-align: middle;\n",
       "    }\n",
       "\n",
       "    .dataframe tbody tr th {\n",
       "        vertical-align: top;\n",
       "    }\n",
       "\n",
       "    .dataframe thead th {\n",
       "        text-align: right;\n",
       "    }\n",
       "</style>\n",
       "<table border=\"1\" class=\"dataframe\">\n",
       "  <thead>\n",
       "    <tr style=\"text-align: right;\">\n",
       "      <th></th>\n",
       "      <th>object_count</th>\n",
       "      <th>number_mean</th>\n",
       "    </tr>\n",
       "  </thead>\n",
       "  <tbody>\n",
       "    <tr>\n",
       "      <td>count</td>\n",
       "      <td>724.000000</td>\n",
       "      <td>724.000000</td>\n",
       "    </tr>\n",
       "    <tr>\n",
       "      <td>mean</td>\n",
       "      <td>4.099448</td>\n",
       "      <td>60.320759</td>\n",
       "    </tr>\n",
       "    <tr>\n",
       "      <td>std</td>\n",
       "      <td>12.625954</td>\n",
       "      <td>56.132763</td>\n",
       "    </tr>\n",
       "    <tr>\n",
       "      <td>min</td>\n",
       "      <td>1.000000</td>\n",
       "      <td>0.000000</td>\n",
       "    </tr>\n",
       "    <tr>\n",
       "      <td>25%</td>\n",
       "      <td>1.000000</td>\n",
       "      <td>20.000000</td>\n",
       "    </tr>\n",
       "    <tr>\n",
       "      <td>50%</td>\n",
       "      <td>1.000000</td>\n",
       "      <td>45.000000</td>\n",
       "    </tr>\n",
       "    <tr>\n",
       "      <td>75%</td>\n",
       "      <td>2.000000</td>\n",
       "      <td>83.625000</td>\n",
       "    </tr>\n",
       "    <tr>\n",
       "      <td>max</td>\n",
       "      <td>155.000000</td>\n",
       "      <td>356.000000</td>\n",
       "    </tr>\n",
       "  </tbody>\n",
       "</table>\n",
       "</div>"
      ],
      "text/plain": [
       "       object_count  number_mean\n",
       "count    724.000000   724.000000\n",
       "mean       4.099448    60.320759\n",
       "std       12.625954    56.132763\n",
       "min        1.000000     0.000000\n",
       "25%        1.000000    20.000000\n",
       "50%        1.000000    45.000000\n",
       "75%        2.000000    83.625000\n",
       "max      155.000000   356.000000"
      ]
     },
     "execution_count": 27,
     "metadata": {},
     "output_type": "execute_result"
    }
   ],
   "source": [
    "rest_chain_pivot.describe()"
   ]
  },
  {
   "cell_type": "markdown",
   "metadata": {},
   "source": [
    "Рассчитаем долю сетей, включающих в себя по одному заведению с количеством посадочных мест менее 50."
   ]
  },
  {
   "cell_type": "code",
   "execution_count": 28,
   "metadata": {},
   "outputs": [
    {
     "data": {
      "text/plain": [
       "0.3383977900552486"
      ]
     },
     "execution_count": 28,
     "metadata": {},
     "output_type": "execute_result"
    }
   ],
   "source": [
    "ratio = rest_chain_pivot.query('object_count == 1 & number_mean < 50')['object_count'].count()/len(rest_chain_pivot)\n",
    "ratio"
   ]
  },
  {
   "cell_type": "markdown",
   "metadata": {},
   "source": [
    "Из вышеуказанного можно сделать вывод, что в 33 процентах случаев сети состоят из одного заведения с количеством посадочных мест менее 50.  "
   ]
  },
  {
   "cell_type": "markdown",
   "metadata": {},
   "source": [
    "У меня в query строгое неравенство. По идее сети с двумя объектами в график не попадают))"
   ]
  },
  {
   "cell_type": "markdown",
   "metadata": {},
   "source": [
    "Построим график совместного распределения среднего количества посадочных мест и количества заведений для сетей, состоящих из трех и более объектов."
   ]
  },
  {
   "cell_type": "code",
   "execution_count": 29,
   "metadata": {},
   "outputs": [
    {
     "data": {
      "image/png": "[encoded data removed]",
      "text/plain": [
       "<Figure size 504x504 with 3 Axes>"
      ]
     },
     "metadata": {
      "needs_background": "light"
     },
     "output_type": "display_data"
    }
   ],
   "source": [
    "p = (sns.jointplot(x = 'object_count',y = 'number_mean'\n",
    "    , data = rest_chain_pivot.query('object_count > 2'), height=7, ratio=2))\n",
    "p.fig.suptitle(\"График распределения среднего количества посадочных мест и количества заведений сети\")\n",
    "plt.show()"
   ]
  },
  {
   "cell_type": "markdown",
   "metadata": {},
   "source": [
    "Из построенного графика можно сделать вывод, что среди сетей, с количеством заведений более 2, наиболее характерными являются сети с количеством заведений до 20 и средним количеством посадочных мест до 50. "
   ]
  },
  {
   "cell_type": "markdown",
   "metadata": {},
   "source": [
    "### <a name=\"5\">2.5. Определение среднего количества посадочных мест для каждого вида объекта общественного питания. Определение вида объекта общественного питания с наибольшим в среднем количеством посадочных мест. Построение графика.</a>"
   ]
  },
  {
   "cell_type": "markdown",
   "metadata": {},
   "source": [
    "Посмотрим на распределение значений количества посадочных мест."
   ]
  },
  {
   "cell_type": "code",
   "execution_count": 30,
   "metadata": {},
   "outputs": [
    {
     "data": {
      "text/plain": [
       "count    15366.000000\n",
       "mean        59.547182\n",
       "std         74.736833\n",
       "min          0.000000\n",
       "25%         12.000000\n",
       "50%         40.000000\n",
       "75%         80.000000\n",
       "max       1700.000000\n",
       "Name: number, dtype: float64"
      ]
     },
     "execution_count": 30,
     "metadata": {},
     "output_type": "execute_result"
    }
   ],
   "source": [
    "rest['number'].describe()"
   ]
  },
  {
   "cell_type": "code",
   "execution_count": 31,
   "metadata": {},
   "outputs": [
    {
     "data": {
      "text/plain": [
       "Text(0.5, 0, 'Количество посадочных мест')"
      ]
     },
     "execution_count": 31,
     "metadata": {},
     "output_type": "execute_result"
    },
    {
     "data": {
      "image/png": "[encoded data removed]",
      "text/plain": [
       "<Figure size 720x504 with 1 Axes>"
      ]
     },
     "metadata": {
      "needs_background": "light"
     },
     "output_type": "display_data"
    }
   ],
   "source": [
    "fig, ax = plt.subplots(figsize=(10, 7))\n",
    "sns.distplot(rest['number'])\n",
    "plt.title('Гистограмма распределения количества посадочных мест для всех объектов')\n",
    "plt.xlabel('Количество посадочных мест')"
   ]
  },
  {
   "cell_type": "markdown",
   "metadata": {},
   "source": [
    "Среднее количество посадочных мест - 60, медианное - 40. Имеется выброс - 1700 посадочных мест."
   ]
  },
  {
   "cell_type": "markdown",
   "metadata": {},
   "source": [
    "По виду гистограммы можно сделать вывод о том, что распределение количества посадочных мест не является нормальным. Кроме того имются выбросы - значения от 300 до 1700. Исходя из этого, для описания среднего значения количества мест используем средние и медианные значения для каждого вида заведения. Рассчитаем в сводной таблице по object_type среднее и медианное количество мест для каждого вида заведений. Построим совместный график для средних и медианных значений. "
   ]
  },
  {
   "cell_type": "code",
   "execution_count": 32,
   "metadata": {},
   "outputs": [],
   "source": [
    "mean_median_number = (rest.groupby(by='object_type')['number']\n",
    "    .agg(['mean','median']).reset_index().sort_values(by='mean'))                    "
   ]
  },
  {
   "cell_type": "code",
   "execution_count": 33,
   "metadata": {},
   "outputs": [
    {
     "data": {
      "text/plain": [
       "Text(0.5, 1.0, 'Среднее и медианное количество посадочных мест по видам заведений')"
      ]
     },
     "execution_count": 33,
     "metadata": {},
     "output_type": "execute_result"
    },
    {
     "data": {
      "image/png": "[encoded data removed]",
      "text/plain": [
       "<Figure size 720x504 with 1 Axes>"
      ]
     },
     "metadata": {
      "needs_background": "light"
     },
     "output_type": "display_data"
    }
   ],
   "source": [
    "fig, ax = plt.subplots(figsize=(10, 7))\n",
    "list_type = mean_median_number['object_type'].tolist()\n",
    "mean_median_number.plot(kind='barh', width=0.7, ax=ax)\n",
    "plt.xlabel('Количество заведений')\n",
    "plt.ylabel('Вид заведений')\n",
    "plt.grid()\n",
    "plt.yticks(np.arange(len(list_type)),list_type)\n",
    "plt.legend(labels=('Среднее значение','Медианное значение'))\n",
    "plt.title('Среднее и медианное количество посадочных мест по видам заведений')\n",
    "#fig.savefig('среднее и медианное', dpi=300, bbox_inches='tight')"
   ]
  },
  {
   "cell_type": "markdown",
   "metadata": {},
   "source": [
    "Из построенного графика можно сделать вывод, что наибольшее среднее и медианное количество посадочных мест характерно для столовых, наименьшее - для магазинов (отделов кулинарии). "
   ]
  },
  {
   "cell_type": "markdown",
   "metadata": {},
   "source": [
    "### <a name=\"6\">2.6. Выделение в отдельный столбец информации об улице из столбца address.</a>"
   ]
  },
  {
   "cell_type": "markdown",
   "metadata": {},
   "source": [
    "В столбце address анализируемой таблицы находится адрес объекта. После указания города, через запятую следует наименование улицы. Для выделения наименования улицы из адреса объекта, методом split преобразуем строку, содержащуюся в address, в массив данных (разделитель - запятая). Столбцу street таблицы rest_district присвоим значение второго элемента, полученного массива. "
   ]
  },
  {
   "cell_type": "code",
   "execution_count": 35,
   "metadata": {},
   "outputs": [],
   "source": [
    "street_type = ['улица', 'проезд','проспект','переулок', 'набережная', 'тупик','площадь', 'шоссе', 'аллея','бульвар', 'спуск']\n",
    "def get_street(row):\n",
    "    address = row['address'].split(',')\n",
    "    parts = len(address) \n",
    "    try:\n",
    "        for item in street_type:\n",
    "            for i in range(parts):\n",
    "                if item in address[i]:  \n",
    "                    return address[i]\n",
    "    except:\n",
    "        return 'Error'\n",
    "    \n",
    "rest_district['street'] = rest_district.apply(get_street, axis=1)"
   ]
  },
  {
   "cell_type": "code",
   "execution_count": 36,
   "metadata": {},
   "outputs": [
    {
     "name": "stdout",
     "output_type": "stream",
     "text": [
      "<class 'pandas.core.frame.DataFrame'>\n",
      "RangeIndex: 15392 entries, 0 to 15391\n",
      "Data columns (total 8 columns):\n",
      "id             15392 non-null int64\n",
      "object_name    15392 non-null object\n",
      "chain          15392 non-null object\n",
      "object_type    15392 non-null object\n",
      "address        15392 non-null object\n",
      "number         15392 non-null int64\n",
      "district       15186 non-null object\n",
      "street         14984 non-null object\n",
      "dtypes: int64(2), object(6)\n",
      "memory usage: 962.1+ KB\n"
     ]
    }
   ],
   "source": [
    "rest_district.info()"
   ]
  },
  {
   "cell_type": "code",
   "execution_count": 37,
   "metadata": {},
   "outputs": [
    {
     "data": {
      "text/html": [
       "<div>\n",
       "<style scoped>\n",
       "    .dataframe tbody tr th:only-of-type {\n",
       "        vertical-align: middle;\n",
       "    }\n",
       "\n",
       "    .dataframe tbody tr th {\n",
       "        vertical-align: top;\n",
       "    }\n",
       "\n",
       "    .dataframe thead th {\n",
       "        text-align: right;\n",
       "    }\n",
       "</style>\n",
       "<table border=\"1\" class=\"dataframe\">\n",
       "  <thead>\n",
       "    <tr style=\"text-align: right;\">\n",
       "      <th></th>\n",
       "      <th>id</th>\n",
       "      <th>object_name</th>\n",
       "      <th>chain</th>\n",
       "      <th>object_type</th>\n",
       "      <th>address</th>\n",
       "      <th>number</th>\n",
       "      <th>district</th>\n",
       "      <th>street</th>\n",
       "    </tr>\n",
       "  </thead>\n",
       "  <tbody>\n",
       "    <tr>\n",
       "      <td>0</td>\n",
       "      <td>151635</td>\n",
       "      <td>СМЕТАНА</td>\n",
       "      <td>нет</td>\n",
       "      <td>кафе</td>\n",
       "      <td>город Москва, улица Егора Абакумова, дом 9</td>\n",
       "      <td>48</td>\n",
       "      <td>муниципальный округ Ярославский</td>\n",
       "      <td>улица Егора Абакумова</td>\n",
       "    </tr>\n",
       "    <tr>\n",
       "      <td>1</td>\n",
       "      <td>77874</td>\n",
       "      <td>Родник</td>\n",
       "      <td>нет</td>\n",
       "      <td>кафе</td>\n",
       "      <td>город Москва, улица Талалихина, дом 2/1, корпус 1</td>\n",
       "      <td>35</td>\n",
       "      <td>муниципальный округ Таганский</td>\n",
       "      <td>улица Талалихина</td>\n",
       "    </tr>\n",
       "    <tr>\n",
       "      <td>2</td>\n",
       "      <td>24309</td>\n",
       "      <td>Кафе «Академия»</td>\n",
       "      <td>нет</td>\n",
       "      <td>кафе</td>\n",
       "      <td>город Москва, Абельмановская улица, дом 6</td>\n",
       "      <td>95</td>\n",
       "      <td>муниципальный округ Таганский</td>\n",
       "      <td>Абельмановская улица</td>\n",
       "    </tr>\n",
       "    <tr>\n",
       "      <td>3</td>\n",
       "      <td>21894</td>\n",
       "      <td>ПИЦЦЕТОРИЯ</td>\n",
       "      <td>да</td>\n",
       "      <td>кафе</td>\n",
       "      <td>город Москва, Абрамцевская улица, дом 1</td>\n",
       "      <td>40</td>\n",
       "      <td>муниципальный округ Лианозово</td>\n",
       "      <td>Абрамцевская улица</td>\n",
       "    </tr>\n",
       "    <tr>\n",
       "      <td>4</td>\n",
       "      <td>119365</td>\n",
       "      <td>Кафе «Вишневая метель»</td>\n",
       "      <td>нет</td>\n",
       "      <td>кафе</td>\n",
       "      <td>город Москва, Абрамцевская улица, дом 9, корпус 1</td>\n",
       "      <td>50</td>\n",
       "      <td>муниципальный округ Лианозово</td>\n",
       "      <td>Абрамцевская улица</td>\n",
       "    </tr>\n",
       "  </tbody>\n",
       "</table>\n",
       "</div>"
      ],
      "text/plain": [
       "       id             object_name chain object_type  \\\n",
       "0  151635                 СМЕТАНА   нет        кафе   \n",
       "1   77874                  Родник   нет        кафе   \n",
       "2   24309         Кафе «Академия»   нет        кафе   \n",
       "3   21894              ПИЦЦЕТОРИЯ    да        кафе   \n",
       "4  119365  Кафе «Вишневая метель»   нет        кафе   \n",
       "\n",
       "                                             address  number  \\\n",
       "0         город Москва, улица Егора Абакумова, дом 9      48   \n",
       "1  город Москва, улица Талалихина, дом 2/1, корпус 1      35   \n",
       "2          город Москва, Абельмановская улица, дом 6      95   \n",
       "3            город Москва, Абрамцевская улица, дом 1      40   \n",
       "4  город Москва, Абрамцевская улица, дом 9, корпус 1      50   \n",
       "\n",
       "                          district                  street  \n",
       "0  муниципальный округ Ярославский   улица Егора Абакумова  \n",
       "1    муниципальный округ Таганский        улица Талалихина  \n",
       "2    муниципальный округ Таганский    Абельмановская улица  \n",
       "3    муниципальный округ Лианозово      Абрамцевская улица  \n",
       "4    муниципальный округ Лианозово      Абрамцевская улица  "
      ]
     },
     "execution_count": 37,
     "metadata": {},
     "output_type": "execute_result"
    }
   ],
   "source": [
    "rest_district.head()"
   ]
  },
  {
   "cell_type": "markdown",
   "metadata": {},
   "source": [
    "### <a name=\"7\">2.7. Построение графика топ-10 улиц по количеству объектов общественного питания. Определение района Москвы, с использованием внешней информации, в котором находятся эти улицы.</a>"
   ]
  },
  {
   "cell_type": "markdown",
   "metadata": {},
   "source": [
    "Сгруппируем данные таблицы rest_district по столбцу street и методом count посчитаем количество заведений, расположенных на какждой улице. Выстроим данные по убыванию количества заведений и передадим переменной top10_streets верхние 10 строк сгруппированных данных. Построим столбчатый график для представления топ-10 улиц по количеству объектов общественного питания.   "
   ]
  },
  {
   "cell_type": "code",
   "execution_count": 38,
   "metadata": {},
   "outputs": [
    {
     "data": {
      "text/html": [
       "<div>\n",
       "<style scoped>\n",
       "    .dataframe tbody tr th:only-of-type {\n",
       "        vertical-align: middle;\n",
       "    }\n",
       "\n",
       "    .dataframe tbody tr th {\n",
       "        vertical-align: top;\n",
       "    }\n",
       "\n",
       "    .dataframe thead th {\n",
       "        text-align: right;\n",
       "    }\n",
       "</style>\n",
       "<table border=\"1\" class=\"dataframe\">\n",
       "  <thead>\n",
       "    <tr style=\"text-align: right;\">\n",
       "      <th></th>\n",
       "      <th>street</th>\n",
       "      <th>id</th>\n",
       "    </tr>\n",
       "  </thead>\n",
       "  <tbody>\n",
       "    <tr>\n",
       "      <td>1412</td>\n",
       "      <td>проспект Мира</td>\n",
       "      <td>204</td>\n",
       "    </tr>\n",
       "    <tr>\n",
       "      <td>1004</td>\n",
       "      <td>Профсоюзная улица</td>\n",
       "      <td>182</td>\n",
       "    </tr>\n",
       "    <tr>\n",
       "      <td>679</td>\n",
       "      <td>Ленинградский проспект</td>\n",
       "      <td>171</td>\n",
       "    </tr>\n",
       "    <tr>\n",
       "      <td>989</td>\n",
       "      <td>Пресненская набережная</td>\n",
       "      <td>167</td>\n",
       "    </tr>\n",
       "    <tr>\n",
       "      <td>393</td>\n",
       "      <td>Варшавское шоссе</td>\n",
       "      <td>164</td>\n",
       "    </tr>\n",
       "    <tr>\n",
       "      <td>682</td>\n",
       "      <td>Ленинский проспект</td>\n",
       "      <td>149</td>\n",
       "    </tr>\n",
       "    <tr>\n",
       "      <td>1408</td>\n",
       "      <td>проспект Вернадского</td>\n",
       "      <td>132</td>\n",
       "    </tr>\n",
       "    <tr>\n",
       "      <td>669</td>\n",
       "      <td>Кутузовский проспект</td>\n",
       "      <td>114</td>\n",
       "    </tr>\n",
       "    <tr>\n",
       "      <td>592</td>\n",
       "      <td>Каширское шоссе</td>\n",
       "      <td>112</td>\n",
       "    </tr>\n",
       "    <tr>\n",
       "      <td>599</td>\n",
       "      <td>Кировоградская улица</td>\n",
       "      <td>110</td>\n",
       "    </tr>\n",
       "  </tbody>\n",
       "</table>\n",
       "</div>"
      ],
      "text/plain": [
       "                       street   id\n",
       "1412            проспект Мира  204\n",
       "1004        Профсоюзная улица  182\n",
       "679    Ленинградский проспект  171\n",
       "989    Пресненская набережная  167\n",
       "393          Варшавское шоссе  164\n",
       "682        Ленинский проспект  149\n",
       "1408     проспект Вернадского  132\n",
       "669      Кутузовский проспект  114\n",
       "592           Каширское шоссе  112\n",
       "599      Кировоградская улица  110"
      ]
     },
     "execution_count": 38,
     "metadata": {},
     "output_type": "execute_result"
    }
   ],
   "source": [
    "top10_streets = (rest_district.groupby(by='street')['id']\n",
    "    .count()\n",
    "    .reset_index()\n",
    "    .sort_values(by='id',ascending=False)\n",
    "    .head(10))\n",
    "top10_streets"
   ]
  },
  {
   "cell_type": "code",
   "execution_count": 39,
   "metadata": {
    "scrolled": true
   },
   "outputs": [
    {
     "data": {
      "image/png": "[encoded data removed]",
      "text/plain": [
       "<Figure size 720x504 with 1 Axes>"
      ]
     },
     "metadata": {
      "needs_background": "light"
     },
     "output_type": "display_data"
    }
   ],
   "source": [
    "fig, ax = plt.subplots(figsize=(10, 7))\n",
    "sns.barplot(x='street', y='id', data=top10_streets)\n",
    "plt.grid()\n",
    "plt.title('Топ-10 улиц по количеству заведений')\n",
    "plt.ylabel('Количество заведений')\n",
    "plt.xlabel('Название улицы')\n",
    "plt.xticks(rotation=60)\n",
    "fig.savefig('топ-10 улицы', dpi=300, bbox_inches='tight')"
   ]
  },
  {
   "cell_type": "markdown",
   "metadata": {},
   "source": [
    "Создадим список топ-10 улиц по количеству заведений. "
   ]
  },
  {
   "cell_type": "code",
   "execution_count": 40,
   "metadata": {},
   "outputs": [],
   "source": [
    "list_top10_streets = top10_streets['street']"
   ]
  },
  {
   "cell_type": "markdown",
   "metadata": {},
   "source": [
    "Для определения районов, в которых находятся топ-10 улиц по количеству заведений общественного питания, отфильтруем улицы, входящие в список list_top10_streets, переменной district_top10street_in передадим данные столбцов street и district, удалим дубликаты и выстроим данные по столбцу street.  "
   ]
  },
  {
   "cell_type": "code",
   "execution_count": 41,
   "metadata": {},
   "outputs": [
    {
     "data": {
      "text/html": [
       "<div>\n",
       "<style scoped>\n",
       "    .dataframe tbody tr th:only-of-type {\n",
       "        vertical-align: middle;\n",
       "    }\n",
       "\n",
       "    .dataframe tbody tr th {\n",
       "        vertical-align: top;\n",
       "    }\n",
       "\n",
       "    .dataframe thead th {\n",
       "        text-align: right;\n",
       "    }\n",
       "</style>\n",
       "<table border=\"1\" class=\"dataframe\">\n",
       "  <thead>\n",
       "    <tr style=\"text-align: right;\">\n",
       "      <th></th>\n",
       "      <th>district</th>\n",
       "      <th>street</th>\n",
       "    </tr>\n",
       "  </thead>\n",
       "  <tbody>\n",
       "    <tr>\n",
       "      <td>0</td>\n",
       "      <td>муниципальный округ Донской</td>\n",
       "      <td>Варшавское шоссе</td>\n",
       "    </tr>\n",
       "    <tr>\n",
       "      <td>3</td>\n",
       "      <td>муниципальный округ Нагорный</td>\n",
       "      <td>Варшавское шоссе</td>\n",
       "    </tr>\n",
       "    <tr>\n",
       "      <td>5</td>\n",
       "      <td>муниципальный округ Чертаново Южное</td>\n",
       "      <td>Варшавское шоссе</td>\n",
       "    </tr>\n",
       "    <tr>\n",
       "      <td>773</td>\n",
       "      <td>городской округ Щербинка</td>\n",
       "      <td>Варшавское шоссе</td>\n",
       "    </tr>\n",
       "    <tr>\n",
       "      <td>772</td>\n",
       "      <td>внутригородская территория поселение Воскресен...</td>\n",
       "      <td>Варшавское шоссе</td>\n",
       "    </tr>\n",
       "    <tr>\n",
       "      <td>210</td>\n",
       "      <td>муниципальный округ Чертаново Центральное</td>\n",
       "      <td>Варшавское шоссе</td>\n",
       "    </tr>\n",
       "    <tr>\n",
       "      <td>651</td>\n",
       "      <td>NaN</td>\n",
       "      <td>Варшавское шоссе</td>\n",
       "    </tr>\n",
       "    <tr>\n",
       "      <td>495</td>\n",
       "      <td>муниципальный округ Южное Бутово</td>\n",
       "      <td>Варшавское шоссе</td>\n",
       "    </tr>\n",
       "    <tr>\n",
       "      <td>305</td>\n",
       "      <td>муниципальный округ Нагатино-Садовники</td>\n",
       "      <td>Варшавское шоссе</td>\n",
       "    </tr>\n",
       "    <tr>\n",
       "      <td>204</td>\n",
       "      <td>муниципальный округ Чертаново Северное</td>\n",
       "      <td>Варшавское шоссе</td>\n",
       "    </tr>\n",
       "    <tr>\n",
       "      <td>20</td>\n",
       "      <td>муниципальный округ Нагатино-Садовники</td>\n",
       "      <td>Каширское шоссе</td>\n",
       "    </tr>\n",
       "    <tr>\n",
       "      <td>22</td>\n",
       "      <td>муниципальный округ Москворечье-Сабурово</td>\n",
       "      <td>Каширское шоссе</td>\n",
       "    </tr>\n",
       "    <tr>\n",
       "      <td>647</td>\n",
       "      <td>NaN</td>\n",
       "      <td>Каширское шоссе</td>\n",
       "    </tr>\n",
       "    <tr>\n",
       "      <td>303</td>\n",
       "      <td>муниципальный округ Орехово-Борисово Северное</td>\n",
       "      <td>Каширское шоссе</td>\n",
       "    </tr>\n",
       "    <tr>\n",
       "      <td>154</td>\n",
       "      <td>муниципальный округ Орехово-Борисово Южное</td>\n",
       "      <td>Каширское шоссе</td>\n",
       "    </tr>\n",
       "    <tr>\n",
       "      <td>219</td>\n",
       "      <td>муниципальный округ Чертаново Северное</td>\n",
       "      <td>Кировоградская улица</td>\n",
       "    </tr>\n",
       "    <tr>\n",
       "      <td>889</td>\n",
       "      <td>NaN</td>\n",
       "      <td>Кировоградская улица</td>\n",
       "    </tr>\n",
       "    <tr>\n",
       "      <td>27</td>\n",
       "      <td>муниципальный округ Чертаново Южное</td>\n",
       "      <td>Кировоградская улица</td>\n",
       "    </tr>\n",
       "    <tr>\n",
       "      <td>25</td>\n",
       "      <td>муниципальный округ Чертаново Центральное</td>\n",
       "      <td>Кировоградская улица</td>\n",
       "    </tr>\n",
       "    <tr>\n",
       "      <td>19</td>\n",
       "      <td>муниципальный округ Фили-Давыдково</td>\n",
       "      <td>Кутузовский проспект</td>\n",
       "    </tr>\n",
       "    <tr>\n",
       "      <td>28</td>\n",
       "      <td>муниципальный округ Дорогомилово</td>\n",
       "      <td>Кутузовский проспект</td>\n",
       "    </tr>\n",
       "    <tr>\n",
       "      <td>48</td>\n",
       "      <td>муниципальный округ Аэропорт</td>\n",
       "      <td>Ленинградский проспект</td>\n",
       "    </tr>\n",
       "    <tr>\n",
       "      <td>38</td>\n",
       "      <td>муниципальный округ Беговой</td>\n",
       "      <td>Ленинградский проспект</td>\n",
       "    </tr>\n",
       "    <tr>\n",
       "      <td>269</td>\n",
       "      <td>муниципальный округ Хорошевский</td>\n",
       "      <td>Ленинградский проспект</td>\n",
       "    </tr>\n",
       "    <tr>\n",
       "      <td>62</td>\n",
       "      <td>муниципальный округ Сокол</td>\n",
       "      <td>Ленинградский проспект</td>\n",
       "    </tr>\n",
       "    <tr>\n",
       "      <td>233</td>\n",
       "      <td>муниципальный округ Проспект Вернадского</td>\n",
       "      <td>Ленинский проспект</td>\n",
       "    </tr>\n",
       "    <tr>\n",
       "      <td>68</td>\n",
       "      <td>муниципальный округ Донской</td>\n",
       "      <td>Ленинский проспект</td>\n",
       "    </tr>\n",
       "    <tr>\n",
       "      <td>91</td>\n",
       "      <td>муниципальный округ Тропарево-Никулино</td>\n",
       "      <td>Ленинский проспект</td>\n",
       "    </tr>\n",
       "    <tr>\n",
       "      <td>89</td>\n",
       "      <td>муниципальный округ Обручевский</td>\n",
       "      <td>Ленинский проспект</td>\n",
       "    </tr>\n",
       "    <tr>\n",
       "      <td>85</td>\n",
       "      <td>муниципальный округ Ломоносовский</td>\n",
       "      <td>Ленинский проспект</td>\n",
       "    </tr>\n",
       "    <tr>\n",
       "      <td>69</td>\n",
       "      <td>муниципальный округ Гагаринский</td>\n",
       "      <td>Ленинский проспект</td>\n",
       "    </tr>\n",
       "    <tr>\n",
       "      <td>65</td>\n",
       "      <td>муниципальный округ Якиманка</td>\n",
       "      <td>Ленинский проспект</td>\n",
       "    </tr>\n",
       "    <tr>\n",
       "      <td>230</td>\n",
       "      <td>муниципальный округ Теплый Стан</td>\n",
       "      <td>Ленинский проспект</td>\n",
       "    </tr>\n",
       "    <tr>\n",
       "      <td>739</td>\n",
       "      <td>муниципальный округ Пресненский</td>\n",
       "      <td>Пресненская набережная</td>\n",
       "    </tr>\n",
       "    <tr>\n",
       "      <td>473</td>\n",
       "      <td>муниципальный округ Ясенево</td>\n",
       "      <td>Профсоюзная улица</td>\n",
       "    </tr>\n",
       "    <tr>\n",
       "      <td>122</td>\n",
       "      <td>муниципальный округ Академический</td>\n",
       "      <td>Профсоюзная улица</td>\n",
       "    </tr>\n",
       "    <tr>\n",
       "      <td>133</td>\n",
       "      <td>муниципальный округ Коньково</td>\n",
       "      <td>Профсоюзная улица</td>\n",
       "    </tr>\n",
       "    <tr>\n",
       "      <td>132</td>\n",
       "      <td>муниципальный округ Обручевский</td>\n",
       "      <td>Профсоюзная улица</td>\n",
       "    </tr>\n",
       "    <tr>\n",
       "      <td>130</td>\n",
       "      <td>муниципальный округ Черемушки</td>\n",
       "      <td>Профсоюзная улица</td>\n",
       "    </tr>\n",
       "    <tr>\n",
       "      <td>135</td>\n",
       "      <td>муниципальный округ Теплый Стан</td>\n",
       "      <td>Профсоюзная улица</td>\n",
       "    </tr>\n",
       "    <tr>\n",
       "      <td>522</td>\n",
       "      <td>муниципальный округ Раменки</td>\n",
       "      <td>проспект Вернадского</td>\n",
       "    </tr>\n",
       "    <tr>\n",
       "      <td>13</td>\n",
       "      <td>муниципальный округ Тропарево-Никулино</td>\n",
       "      <td>проспект Вернадского</td>\n",
       "    </tr>\n",
       "    <tr>\n",
       "      <td>12</td>\n",
       "      <td>муниципальный округ Проспект Вернадского</td>\n",
       "      <td>проспект Вернадского</td>\n",
       "    </tr>\n",
       "    <tr>\n",
       "      <td>7</td>\n",
       "      <td>муниципальный округ Ломоносовский</td>\n",
       "      <td>проспект Вернадского</td>\n",
       "    </tr>\n",
       "    <tr>\n",
       "      <td>6</td>\n",
       "      <td>муниципальный округ Гагаринский</td>\n",
       "      <td>проспект Вернадского</td>\n",
       "    </tr>\n",
       "    <tr>\n",
       "      <td>314</td>\n",
       "      <td>муниципальный округ Ростокино</td>\n",
       "      <td>проспект Мира</td>\n",
       "    </tr>\n",
       "    <tr>\n",
       "      <td>381</td>\n",
       "      <td>муниципальный округ Свиблово</td>\n",
       "      <td>проспект Мира</td>\n",
       "    </tr>\n",
       "    <tr>\n",
       "      <td>112</td>\n",
       "      <td>муниципальный округ Алексеевский</td>\n",
       "      <td>проспект Мира</td>\n",
       "    </tr>\n",
       "    <tr>\n",
       "      <td>107</td>\n",
       "      <td>муниципальный округ Останкинский</td>\n",
       "      <td>проспект Мира</td>\n",
       "    </tr>\n",
       "    <tr>\n",
       "      <td>92</td>\n",
       "      <td>муниципальный округ Мещанский</td>\n",
       "      <td>проспект Мира</td>\n",
       "    </tr>\n",
       "    <tr>\n",
       "      <td>1323</td>\n",
       "      <td>муниципальный округ Ярославский</td>\n",
       "      <td>проспект Мира</td>\n",
       "    </tr>\n",
       "  </tbody>\n",
       "</table>\n",
       "</div>"
      ],
      "text/plain": [
       "                                               district  \\\n",
       "0                           муниципальный округ Донской   \n",
       "3                          муниципальный округ Нагорный   \n",
       "5                   муниципальный округ Чертаново Южное   \n",
       "773                            городской округ Щербинка   \n",
       "772   внутригородская территория поселение Воскресен...   \n",
       "210           муниципальный округ Чертаново Центральное   \n",
       "651                                                 NaN   \n",
       "495                    муниципальный округ Южное Бутово   \n",
       "305              муниципальный округ Нагатино-Садовники   \n",
       "204              муниципальный округ Чертаново Северное   \n",
       "20               муниципальный округ Нагатино-Садовники   \n",
       "22             муниципальный округ Москворечье-Сабурово   \n",
       "647                                                 NaN   \n",
       "303       муниципальный округ Орехово-Борисово Северное   \n",
       "154          муниципальный округ Орехово-Борисово Южное   \n",
       "219              муниципальный округ Чертаново Северное   \n",
       "889                                                 NaN   \n",
       "27                  муниципальный округ Чертаново Южное   \n",
       "25            муниципальный округ Чертаново Центральное   \n",
       "19                   муниципальный округ Фили-Давыдково   \n",
       "28                     муниципальный округ Дорогомилово   \n",
       "48                         муниципальный округ Аэропорт   \n",
       "38                          муниципальный округ Беговой   \n",
       "269                     муниципальный округ Хорошевский   \n",
       "62                            муниципальный округ Сокол   \n",
       "233            муниципальный округ Проспект Вернадского   \n",
       "68                          муниципальный округ Донской   \n",
       "91               муниципальный округ Тропарево-Никулино   \n",
       "89                      муниципальный округ Обручевский   \n",
       "85                    муниципальный округ Ломоносовский   \n",
       "69                      муниципальный округ Гагаринский   \n",
       "65                         муниципальный округ Якиманка   \n",
       "230                     муниципальный округ Теплый Стан   \n",
       "739                     муниципальный округ Пресненский   \n",
       "473                         муниципальный округ Ясенево   \n",
       "122                   муниципальный округ Академический   \n",
       "133                        муниципальный округ Коньково   \n",
       "132                     муниципальный округ Обручевский   \n",
       "130                       муниципальный округ Черемушки   \n",
       "135                     муниципальный округ Теплый Стан   \n",
       "522                         муниципальный округ Раменки   \n",
       "13               муниципальный округ Тропарево-Никулино   \n",
       "12             муниципальный округ Проспект Вернадского   \n",
       "7                     муниципальный округ Ломоносовский   \n",
       "6                       муниципальный округ Гагаринский   \n",
       "314                       муниципальный округ Ростокино   \n",
       "381                        муниципальный округ Свиблово   \n",
       "112                    муниципальный округ Алексеевский   \n",
       "107                    муниципальный округ Останкинский   \n",
       "92                        муниципальный округ Мещанский   \n",
       "1323                    муниципальный округ Ярославский   \n",
       "\n",
       "                       street  \n",
       "0            Варшавское шоссе  \n",
       "3            Варшавское шоссе  \n",
       "5            Варшавское шоссе  \n",
       "773          Варшавское шоссе  \n",
       "772          Варшавское шоссе  \n",
       "210          Варшавское шоссе  \n",
       "651          Варшавское шоссе  \n",
       "495          Варшавское шоссе  \n",
       "305          Варшавское шоссе  \n",
       "204          Варшавское шоссе  \n",
       "20            Каширское шоссе  \n",
       "22            Каширское шоссе  \n",
       "647           Каширское шоссе  \n",
       "303           Каширское шоссе  \n",
       "154           Каширское шоссе  \n",
       "219      Кировоградская улица  \n",
       "889      Кировоградская улица  \n",
       "27       Кировоградская улица  \n",
       "25       Кировоградская улица  \n",
       "19       Кутузовский проспект  \n",
       "28       Кутузовский проспект  \n",
       "48     Ленинградский проспект  \n",
       "38     Ленинградский проспект  \n",
       "269    Ленинградский проспект  \n",
       "62     Ленинградский проспект  \n",
       "233        Ленинский проспект  \n",
       "68         Ленинский проспект  \n",
       "91         Ленинский проспект  \n",
       "89         Ленинский проспект  \n",
       "85         Ленинский проспект  \n",
       "69         Ленинский проспект  \n",
       "65         Ленинский проспект  \n",
       "230        Ленинский проспект  \n",
       "739    Пресненская набережная  \n",
       "473         Профсоюзная улица  \n",
       "122         Профсоюзная улица  \n",
       "133         Профсоюзная улица  \n",
       "132         Профсоюзная улица  \n",
       "130         Профсоюзная улица  \n",
       "135         Профсоюзная улица  \n",
       "522      проспект Вернадского  \n",
       "13       проспект Вернадского  \n",
       "12       проспект Вернадского  \n",
       "7        проспект Вернадского  \n",
       "6        проспект Вернадского  \n",
       "314             проспект Мира  \n",
       "381             проспект Мира  \n",
       "112             проспект Мира  \n",
       "107             проспект Мира  \n",
       "92              проспект Мира  \n",
       "1323            проспект Мира  "
      ]
     },
     "execution_count": 41,
     "metadata": {},
     "output_type": "execute_result"
    }
   ],
   "source": [
    "district_top10street_in = (rest_district\n",
    "    .query('street in @list_top10_streets')[['district','street']]\n",
    "    .reset_index(drop=True)\n",
    "    .drop_duplicates()\n",
    "    .sort_values(by='street')\n",
    "   )\n",
    "district_top10street_in"
   ]
  },
  {
   "cell_type": "markdown",
   "metadata": {},
   "source": [
    "Из вышеуказанного можно сделать следующий вывод. Улицы, входящие в топ-10 по количеству заведений, имеют большую протяженность и входят в несколько муниципальных районов - до 8 районов в случаях с Ленинским проспектом и Варшавским шоссе."
   ]
  },
  {
   "cell_type": "markdown",
   "metadata": {},
   "source": [
    "Узнаем в каких районах находится больше всего заведений общественного питания. Сгруппируем данные по столбцу district, методом count посчитаем количество заведений, выстроим данные по возрастанию количества и передадим переменной 10 верхних строк сгруппированных данных. Построим столбчатый график."
   ]
  },
  {
   "cell_type": "code",
   "execution_count": 42,
   "metadata": {},
   "outputs": [
    {
     "data": {
      "text/html": [
       "<div>\n",
       "<style scoped>\n",
       "    .dataframe tbody tr th:only-of-type {\n",
       "        vertical-align: middle;\n",
       "    }\n",
       "\n",
       "    .dataframe tbody tr th {\n",
       "        vertical-align: top;\n",
       "    }\n",
       "\n",
       "    .dataframe thead th {\n",
       "        text-align: right;\n",
       "    }\n",
       "</style>\n",
       "<table border=\"1\" class=\"dataframe\">\n",
       "  <thead>\n",
       "    <tr style=\"text-align: right;\">\n",
       "      <th></th>\n",
       "      <th>district</th>\n",
       "      <th>id</th>\n",
       "    </tr>\n",
       "  </thead>\n",
       "  <tbody>\n",
       "    <tr>\n",
       "      <td>0</td>\n",
       "      <td>муниципальный округ Тверской</td>\n",
       "      <td>775</td>\n",
       "    </tr>\n",
       "    <tr>\n",
       "      <td>1</td>\n",
       "      <td>муниципальный округ Пресненский</td>\n",
       "      <td>709</td>\n",
       "    </tr>\n",
       "    <tr>\n",
       "      <td>2</td>\n",
       "      <td>муниципальный округ Басманный</td>\n",
       "      <td>631</td>\n",
       "    </tr>\n",
       "    <tr>\n",
       "      <td>3</td>\n",
       "      <td>муниципальный округ Даниловский</td>\n",
       "      <td>461</td>\n",
       "    </tr>\n",
       "    <tr>\n",
       "      <td>4</td>\n",
       "      <td>муниципальный округ Замоскворечье</td>\n",
       "      <td>382</td>\n",
       "    </tr>\n",
       "    <tr>\n",
       "      <td>5</td>\n",
       "      <td>муниципальный округ Хамовники</td>\n",
       "      <td>369</td>\n",
       "    </tr>\n",
       "    <tr>\n",
       "      <td>6</td>\n",
       "      <td>муниципальный округ Мещанский</td>\n",
       "      <td>358</td>\n",
       "    </tr>\n",
       "    <tr>\n",
       "      <td>7</td>\n",
       "      <td>муниципальный округ Таганский</td>\n",
       "      <td>336</td>\n",
       "    </tr>\n",
       "    <tr>\n",
       "      <td>8</td>\n",
       "      <td>муниципальный округ Арбат</td>\n",
       "      <td>268</td>\n",
       "    </tr>\n",
       "    <tr>\n",
       "      <td>9</td>\n",
       "      <td>муниципальный округ Хорошевский</td>\n",
       "      <td>257</td>\n",
       "    </tr>\n",
       "  </tbody>\n",
       "</table>\n",
       "</div>"
      ],
      "text/plain": [
       "                            district   id\n",
       "0       муниципальный округ Тверской  775\n",
       "1    муниципальный округ Пресненский  709\n",
       "2      муниципальный округ Басманный  631\n",
       "3    муниципальный округ Даниловский  461\n",
       "4  муниципальный округ Замоскворечье  382\n",
       "5      муниципальный округ Хамовники  369\n",
       "6      муниципальный округ Мещанский  358\n",
       "7      муниципальный округ Таганский  336\n",
       "8          муниципальный округ Арбат  268\n",
       "9    муниципальный округ Хорошевский  257"
      ]
     },
     "execution_count": 42,
     "metadata": {},
     "output_type": "execute_result"
    }
   ],
   "source": [
    "top10_distrits = (rest_district\n",
    "    .groupby(by='district')['id']\n",
    "    .count()\n",
    "    .sort_values(ascending=False)\n",
    "    .reset_index()\n",
    "    .head(10))\n",
    "top10_distrits                       "
   ]
  },
  {
   "cell_type": "markdown",
   "metadata": {},
   "source": [
    "Топ-3 районов с наибольшим количеством заведений общественного питания выглядит следующим образом: округ Тверской - 775 заведений, округ Пресненский - 709, округ Басманный - 631."
   ]
  },
  {
   "cell_type": "code",
   "execution_count": 43,
   "metadata": {},
   "outputs": [
    {
     "data": {
      "text/plain": [
       "(array([0, 1, 2, 3, 4, 5, 6, 7, 8, 9]), <a list of 10 Text xticklabel objects>)"
      ]
     },
     "execution_count": 43,
     "metadata": {},
     "output_type": "execute_result"
    },
    {
     "data": {
      "image/png": "[encoded data removed]",
      "text/plain": [
       "<Figure size 720x504 with 1 Axes>"
      ]
     },
     "metadata": {
      "needs_background": "light"
     },
     "output_type": "display_data"
    }
   ],
   "source": [
    "fig, ax = plt.subplots(figsize=(10, 7))\n",
    "sns.barplot(x='district', y='id', data=top10_distrits)\n",
    "plt.grid()\n",
    "plt.title('Топ-10 районов по количеству заведений')\n",
    "plt.ylabel('Количество заведений')\n",
    "plt.xlabel('Название района')\n",
    "plt.xticks(rotation=60)\n",
    "#fig.savefig('топ-10 районы', dpi=300, bbox_inches='tight')"
   ]
  },
  {
   "cell_type": "markdown",
   "metadata": {},
   "source": [
    "Посмотрим на улицы, входящие в топ-10 улиц и районов."
   ]
  },
  {
   "cell_type": "code",
   "execution_count": 44,
   "metadata": {},
   "outputs": [],
   "source": [
    "list_top10_districts = top10_distrits['district']"
   ]
  },
  {
   "cell_type": "code",
   "execution_count": 45,
   "metadata": {},
   "outputs": [
    {
     "data": {
      "text/plain": [
       "682               проспект Мира\n",
       "3462     Ленинградский проспект\n",
       "8285     Пресненская набережная\n",
       "Name: street, dtype: object"
      ]
     },
     "execution_count": 45,
     "metadata": {},
     "output_type": "execute_result"
    }
   ],
   "source": [
    "rest_district.query('district in @list_top10_districts & street in @list_top10_streets')['street'].drop_duplicates()"
   ]
  },
  {
   "cell_type": "markdown",
   "metadata": {},
   "source": [
    "### <a name=\"8\">2.8. Определение числа улиц с одним объектом общественного питания. Определение района Москвы, с использованием внешней информации, в котором находятся эти улицы.</a>"
   ]
  },
  {
   "cell_type": "markdown",
   "metadata": {},
   "source": [
    "Узнаем на каких улицах находится по одному заведению общественного питания. Посчитаем количество заведений на каждой улице и отфильтруем улицы, на которых количество заведений равно 1."
   ]
  },
  {
   "cell_type": "code",
   "execution_count": 46,
   "metadata": {},
   "outputs": [
    {
     "name": "stdout",
     "output_type": "stream",
     "text": [
      "<class 'pandas.core.frame.DataFrame'>\n",
      "Int64Index: 585 entries, 2 to 1937\n",
      "Data columns (total 2 columns):\n",
      "street    585 non-null object\n",
      "id        585 non-null int64\n",
      "dtypes: int64(1), object(1)\n",
      "memory usage: 13.7+ KB\n"
     ]
    }
   ],
   "source": [
    "street_1obj = (rest_district.groupby(by='street')['id']\n",
    "    .count()\n",
    "    .reset_index()\n",
    "    .query('id == 1'))\n",
    "street_1obj.info()   "
   ]
  },
  {
   "cell_type": "code",
   "execution_count": 47,
   "metadata": {},
   "outputs": [],
   "source": [
    "list_street_1obj = street_1obj['street']"
   ]
  },
  {
   "cell_type": "code",
   "execution_count": 48,
   "metadata": {},
   "outputs": [
    {
     "data": {
      "text/html": [
       "<div>\n",
       "<style scoped>\n",
       "    .dataframe tbody tr th:only-of-type {\n",
       "        vertical-align: middle;\n",
       "    }\n",
       "\n",
       "    .dataframe tbody tr th {\n",
       "        vertical-align: top;\n",
       "    }\n",
       "\n",
       "    .dataframe thead th {\n",
       "        text-align: right;\n",
       "    }\n",
       "</style>\n",
       "<table border=\"1\" class=\"dataframe\">\n",
       "  <thead>\n",
       "    <tr style=\"text-align: right;\">\n",
       "      <th></th>\n",
       "      <th>district</th>\n",
       "      <th>street</th>\n",
       "    </tr>\n",
       "  </thead>\n",
       "  <tbody>\n",
       "    <tr>\n",
       "      <td>451</td>\n",
       "      <td>внутригородская территория поселение Внуковское</td>\n",
       "      <td>улица Корнея Чуковского</td>\n",
       "    </tr>\n",
       "    <tr>\n",
       "      <td>61</td>\n",
       "      <td>внутригородская территория поселение Десеновское</td>\n",
       "      <td>Армейская улица</td>\n",
       "    </tr>\n",
       "    <tr>\n",
       "      <td>556</td>\n",
       "      <td>внутригородская территория поселение Десеновское</td>\n",
       "      <td>1-я Ватутинская улица</td>\n",
       "    </tr>\n",
       "    <tr>\n",
       "      <td>583</td>\n",
       "      <td>внутригородская территория поселение Десеновское</td>\n",
       "      <td>улица Дмитрия Рябинкина</td>\n",
       "    </tr>\n",
       "    <tr>\n",
       "      <td>64</td>\n",
       "      <td>внутригородская территория поселение Кленовское</td>\n",
       "      <td>улица 1-й километр Объездной Дороги</td>\n",
       "    </tr>\n",
       "  </tbody>\n",
       "</table>\n",
       "</div>"
      ],
      "text/plain": [
       "                                             district  \\\n",
       "451   внутригородская территория поселение Внуковское   \n",
       "61   внутригородская территория поселение Десеновское   \n",
       "556  внутригородская территория поселение Десеновское   \n",
       "583  внутригородская территория поселение Десеновское   \n",
       "64    внутригородская территория поселение Кленовское   \n",
       "\n",
       "                                   street  \n",
       "451               улица Корнея Чуковского  \n",
       "61                        Армейская улица  \n",
       "556                 1-я Ватутинская улица  \n",
       "583               улица Дмитрия Рябинкина  \n",
       "64    улица 1-й километр Объездной Дороги  "
      ]
     },
     "execution_count": 48,
     "metadata": {},
     "output_type": "execute_result"
    }
   ],
   "source": [
    "district_str_1obj = (rest_district\n",
    "    .query('street in @list_street_1obj')[['district','street']]\n",
    "    .reset_index(drop=True)\n",
    "    .drop_duplicates()\n",
    "    .sort_values(by='district')\n",
    "   )\n",
    "district_str_1obj.head()"
   ]
  },
  {
   "cell_type": "code",
   "execution_count": 49,
   "metadata": {},
   "outputs": [
    {
     "data": {
      "text/plain": [
       "113"
      ]
     },
     "execution_count": 49,
     "metadata": {},
     "output_type": "execute_result"
    }
   ],
   "source": [
    "district_str_1obj['district'].nunique()"
   ]
  },
  {
   "cell_type": "markdown",
   "metadata": {},
   "source": [
    "Узнаем в каких районах находится самое большое количество улиц с одним заведением общественного питания."
   ]
  },
  {
   "cell_type": "code",
   "execution_count": 50,
   "metadata": {},
   "outputs": [
    {
     "data": {
      "text/html": [
       "<div>\n",
       "<style scoped>\n",
       "    .dataframe tbody tr th:only-of-type {\n",
       "        vertical-align: middle;\n",
       "    }\n",
       "\n",
       "    .dataframe tbody tr th {\n",
       "        vertical-align: top;\n",
       "    }\n",
       "\n",
       "    .dataframe thead th {\n",
       "        text-align: right;\n",
       "    }\n",
       "</style>\n",
       "<table border=\"1\" class=\"dataframe\">\n",
       "  <thead>\n",
       "    <tr style=\"text-align: right;\">\n",
       "      <th></th>\n",
       "      <th>street</th>\n",
       "    </tr>\n",
       "    <tr>\n",
       "      <th>district</th>\n",
       "      <th></th>\n",
       "    </tr>\n",
       "  </thead>\n",
       "  <tbody>\n",
       "    <tr>\n",
       "      <td>муниципальный округ Таганский</td>\n",
       "      <td>27</td>\n",
       "    </tr>\n",
       "    <tr>\n",
       "      <td>муниципальный округ Хамовники</td>\n",
       "      <td>26</td>\n",
       "    </tr>\n",
       "    <tr>\n",
       "      <td>муниципальный округ Басманный</td>\n",
       "      <td>22</td>\n",
       "    </tr>\n",
       "    <tr>\n",
       "      <td>муниципальный округ Тверской</td>\n",
       "      <td>20</td>\n",
       "    </tr>\n",
       "    <tr>\n",
       "      <td>муниципальный округ Пресненский</td>\n",
       "      <td>19</td>\n",
       "    </tr>\n",
       "    <tr>\n",
       "      <td>...</td>\n",
       "      <td>...</td>\n",
       "    </tr>\n",
       "    <tr>\n",
       "      <td>муниципальный округ Гагаринский</td>\n",
       "      <td>1</td>\n",
       "    </tr>\n",
       "    <tr>\n",
       "      <td>муниципальный округ Восточный</td>\n",
       "      <td>1</td>\n",
       "    </tr>\n",
       "    <tr>\n",
       "      <td>муниципальный округ Восточное Измайлово</td>\n",
       "      <td>1</td>\n",
       "    </tr>\n",
       "    <tr>\n",
       "      <td>муниципальный округ Старое Крюково</td>\n",
       "      <td>1</td>\n",
       "    </tr>\n",
       "    <tr>\n",
       "      <td>внутригородская территория поселение Внуковское</td>\n",
       "      <td>1</td>\n",
       "    </tr>\n",
       "  </tbody>\n",
       "</table>\n",
       "<p>113 rows × 1 columns</p>\n",
       "</div>"
      ],
      "text/plain": [
       "                                                 street\n",
       "district                                               \n",
       "муниципальный округ Таганский                        27\n",
       "муниципальный округ Хамовники                        26\n",
       "муниципальный округ Басманный                        22\n",
       "муниципальный округ Тверской                         20\n",
       "муниципальный округ Пресненский                      19\n",
       "...                                                 ...\n",
       "муниципальный округ Гагаринский                       1\n",
       "муниципальный округ Восточный                         1\n",
       "муниципальный округ Восточное Измайлово               1\n",
       "муниципальный округ Старое Крюково                    1\n",
       "внутригородская территория поселение Внуковское       1\n",
       "\n",
       "[113 rows x 1 columns]"
      ]
     },
     "execution_count": 50,
     "metadata": {},
     "output_type": "execute_result"
    }
   ],
   "source": [
    "district_str_1obj.groupby(by='district').count().sort_values(by='street', ascending=False)"
   ]
  },
  {
   "cell_type": "markdown",
   "metadata": {},
   "source": [
    "Исходя из изложенного, можно сделать вывод о том, что на территории Москвы имеется 585 улиц, на которых расположено по одному заведению общественного питания. Эти улицы расположены в 113 районах Москвы. Наибольшее количество улиц с одним заведением общественного питания расположено: в Таганском округе – 27 улиц, в округе Хамовники – 26 улиц, в Басманном округе – 22 улицы."
   ]
  },
  {
   "cell_type": "markdown",
   "metadata": {},
   "source": [
    "### <a name=\"9\">2.9. Анализ распределения количества посадочных мест для улиц с большим количеством объектов общественного питания. Выявление закономерностей.</a>"
   ]
  },
  {
   "cell_type": "markdown",
   "metadata": {},
   "source": [
    "Для улиц, входящих в топ-10 по количеству заведений, построим точечный график распределения количества посадочных мест"
   ]
  },
  {
   "cell_type": "code",
   "execution_count": 51,
   "metadata": {},
   "outputs": [
    {
     "data": {
      "image/png": "[encoded data removed]",
      "text/plain": [
       "<Figure size 720x504 with 1 Axes>"
      ]
     },
     "metadata": {
      "needs_background": "light"
     },
     "output_type": "display_data"
    }
   ],
   "source": [
    "fig, ax = plt.subplots(figsize=(10, 7))\n",
    "sns.scatterplot(data=rest_district.query('street in @list_top10_streets')['number'])\n",
    "plt.title('Распределение количества посадочных мест для топ-10 улиц по количеству заведений')\n",
    "plt.grid()\n",
    "#fig.savefig('точечный посадочные места по улицам', dpi=300)"
   ]
  },
  {
   "cell_type": "markdown",
   "metadata": {},
   "source": [
    "Для выявления закономерностей в распределнии количества посадочных мест в заведениях, расположенных на улицах, входящих в топ-10 по количеству заведений, построим в одних координатах гистограммы распределния количества посадочных мест для этих улиц и для улиц, не входящих в топ-10. Для наглядности графиков отсечем выбросы со значениями более 250 посадочных мест.  "
   ]
  },
  {
   "cell_type": "code",
   "execution_count": 52,
   "metadata": {},
   "outputs": [
    {
     "data": {
      "image/png": "[encoded data removed]",
      "text/plain": [
       "<Figure size 720x504 with 1 Axes>"
      ]
     },
     "metadata": {
      "needs_background": "light"
     },
     "output_type": "display_data"
    }
   ],
   "source": [
    "fig, ax = plt.subplots(figsize=(10, 7))\n",
    "sns.distplot(rest_district.query('street in @list_top10_streets')['number'],label='Улицы, входящие в топ-10')\n",
    "sns.distplot(rest_district.query('street not in @list_top10_streets')['number'], ax=ax, label='Улицы, не входящие в топ-10')\n",
    "plt.xlim(0, 250)\n",
    "plt.legend()\n",
    "plt.grid()\n",
    "plt.title('Гистограмма распределения количества посадочных мест')\n",
    "fig.savefig('распределение количества посадочных мест', dpi=300)"
   ]
  },
  {
   "cell_type": "markdown",
   "metadata": {},
   "source": [
    "Из привиденного графика можно сделать вывод, что распределение количества посадочных мест для улиц из топ-10 выглядит в целом так же как и для улиц, не входящих в топ-10. Но есть и различия. На улицах с большим количеством заведений чаще встречаются заведения с количеством посадочных мест до 30. "
   ]
  },
  {
   "cell_type": "markdown",
   "metadata": {},
   "source": [
    "## <a name=\"30\">3. Вывод.</a>"
   ]
  },
  {
   "cell_type": "markdown",
   "metadata": {},
   "source": [
    "### <a name=\"31\">3.1 Общие выводы</a>"
   ]
  },
  {
   "cell_type": "markdown",
   "metadata": {},
   "source": [
    "По результатам анализа заведений общественного питания города Москвы можно сделать следующие выводы. Наиболее распространенным видом заведения общественного питания является кафе, на втором месте - столовая, замыкает тройку лидеров ресторан. Наименее распространенный вид заведения общественного питания - магазин (отдел кулинарии). Ссетевых заведений в 4 раза больше, чем несетевых. Сетевое распространение наиболее характерно для кафе, на втором месте - предприятие быстрого обслуживания, на третьем - ресторан. Столовые и буфеты в сети не объединяют. В 43 процентах случаев сети состоят из одного заведения с количеством посадочных мест менее 50. Среди сетей, с количеством заведений более 2, наиболее характерными являются сети с количеством заведений до 20 и средним количеством посадочных мест до 50. Наибольшее среднее и медианное количество посадочных мест характерно для столовых, наименьшее - для магазинов (отделов кулинарии). Улицы, входящие в топ-10 по количеству заведений, имеют большую протяженность и входят в несколько муниципальных районов - до 8 районов в случаях с Ленинским проспектом и Варшавским шоссе. Топ-3 районов с наибольшим количеством заведений общественного питания выглядит следующим образом: округ Тверской - 775 заведений, округ Пресненский - 709, округ Басманный - 631. На территории Москвы имеется 585 улиц, на которых расположено по одному заведению общественного питания. Эти улицы расположены в 113 районах Москвы. Наибольшее количество улиц с одним заведением общественного питания расположено: в Таганском округе – 27 улиц, в округе Хамовники – 26 улиц, в Басманном округе – 22 улицы. На улицах с большим количеством заведений чаще встречаются заведения с количеством посадочных мест до 30."
   ]
  },
  {
   "cell_type": "markdown",
   "metadata": {},
   "source": [
    "### <a name=\"32\">3.2 Рекомендации</a>"
   ]
  },
  {
   "cell_type": "markdown",
   "metadata": {},
   "source": [
    "Основываясь на вышеуказанном, в качестве характеристик для вновь открываемого заведения общественного питания можно порекомендовать следующее: вид завдения - кафе; на первом этапе - один объект, далее возможно создание сети; количетво посадочных мест - до 30; расположение - Тверской, Пресненский, Таганский районы, так как эти рйоны входят одновременно в топы по количеству заведений и по количеству улиц с одним заведением, то есть при наличии большого количества потенциальных клиентов, посещающих рекомендуемые районы, можно расположить объект на улице с небольшим количеством заведений-конкурентов. "
   ]
  },
  {
   "cell_type": "markdown",
   "metadata": {},
   "source": [
    "### <a name=20>4. Презентация результатов анализа.</a>"
   ]
  },
  {
   "cell_type": "markdown",
   "metadata": {},
   "source": [
    "Ссылка на презентацию результатов анализа <https://yadi.sk/i/ckGCz_Hskaj1Vg>"
   ]
  }
 ],
 "metadata": {
  "kernelspec": {
   "display_name": "Python 3",
   "language": "python",
   "name": "python3"
  },
  "language_info": {
   "codemirror_mode": {
    "name": "ipython",
    "version": 3
   },
   "file_extension": ".py",
   "mimetype": "text/x-python",
   "name": "python",
   "nbconvert_exporter": "python",
   "pygments_lexer": "ipython3",
   "version": "3.8.3"
  }
 },
 "nbformat": 4,
 "nbformat_minor": 2
}
